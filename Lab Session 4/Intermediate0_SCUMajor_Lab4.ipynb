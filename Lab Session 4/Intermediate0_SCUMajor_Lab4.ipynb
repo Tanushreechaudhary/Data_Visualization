{
 "cells": [
  {
   "cell_type": "code",
   "execution_count": 79,
   "metadata": {},
   "outputs": [
    {
     "name": "stdout",
     "output_type": "stream",
     "text": [
      "+----+-------------------------------------------------------------------------------------------------------------------------------------------------------------------------------------------------------------------------------------------------------------------------------------------------------------------------------------------------------------------------------------------------------------------------------------------------------------------------------------------------------------------------------------------------------------------------------------------------------------------------------------------------------------------------------------------------------------------------------------------------------------------------------------------------------------------------------------------------------------------------------------------------------------------------------------------------------------------------------------------------------------------------------------------------------------------------------------------------------------------------------------------------------------------------------------------------------------------------------------------------------------------------------------------------------------------------------------------------------------------------------------------------------------------------------------------------+\n",
      "|    | major                                                                                                                                                                                                                                                                                                                                                                                                                                                                                                                                                                                                                                                                                                                                                                                                                                                                                                                                                                                                                                                                                                                                                                                                                                                                                                                                                                                                                                           |\n",
      "|----+-------------------------------------------------------------------------------------------------------------------------------------------------------------------------------------------------------------------------------------------------------------------------------------------------------------------------------------------------------------------------------------------------------------------------------------------------------------------------------------------------------------------------------------------------------------------------------------------------------------------------------------------------------------------------------------------------------------------------------------------------------------------------------------------------------------------------------------------------------------------------------------------------------------------------------------------------------------------------------------------------------------------------------------------------------------------------------------------------------------------------------------------------------------------------------------------------------------------------------------------------------------------------------------------------------------------------------------------------------------------------------------------------------------------------------------------------|\n",
      "|  0 | ['Drama and Theatre Production', '21', 'Studio Arts', '14', 'Web Page and Digital Design', '10', 'Accounting', '93', 'Business', '1', 'Finance', '140', 'Management Sciences and Information Systems', '23', 'Marketing', '72', 'Organizational Behavior Studies', '10', 'Educational Administration', '2', 'High School Education', '1', 'Public Health', '49', 'Anthropology and Archaeology', '4', 'Area and Ethnic Studies', '6', 'Art History', '3', 'Communications', '129', 'Economics', '107', 'English', '41', 'French Language and Literature', '8', 'German Language and Literature', '3', 'History', '17', 'Italian Language and Literature', '2', 'Liberal Arts and Humanities', '25', 'Managerial Economics', '15', 'Music History and Literature', '12', 'Philosophy', '17', 'Political Science and Government', '109', 'Psychology', '91', 'Religious Studies', '4', 'Sociology', '28', 'Spanish Language and Literature', '18', \"Women's Studies\", '9', 'Biochemistry and Molecular Biology', '19', 'Bioengineering and Biomedical Engineering', '51', 'Biology', '86', 'Chemistry', '15', 'Civil Engineering', '33', 'Computer Engineering', '59', 'Computer Science', '22', 'Electrical and Electronics Engineering', '25', 'Engineering', '1', 'Engineering Physics', '3', 'Environmental Sciences', '21', 'Environmental Studies', '23', 'Mathematics & Statistics', '15', 'Mechanical Engineering', '53', 'Physics', '5'] |\n",
      "+----+-------------------------------------------------------------------------------------------------------------------------------------------------------------------------------------------------------------------------------------------------------------------------------------------------------------------------------------------------------------------------------------------------------------------------------------------------------------------------------------------------------------------------------------------------------------------------------------------------------------------------------------------------------------------------------------------------------------------------------------------------------------------------------------------------------------------------------------------------------------------------------------------------------------------------------------------------------------------------------------------------------------------------------------------------------------------------------------------------------------------------------------------------------------------------------------------------------------------------------------------------------------------------------------------------------------------------------------------------------------------------------------------------------------------------------------------------+\n"
     ]
    }
   ],
   "source": [
    "import pandas as pd\n",
    "import requests\n",
    "from bs4 import BeautifulSoup\n",
    "from tabulate import tabulate\n",
    "\n",
    "url = 'https://www.niche.com/colleges/santa-clara-university/majors/'\n",
    "agent = {\"User-Agent\":'Mozilla/5.0 (Windows NT 6.3; WOW64) AppleWebKit/537.36 (KHTML, like Gecko) Chrome/59.0.3071.115 Safari/537.36'}\n",
    "page = requests.get(url, headers=agent)\n",
    "soup =  (BS(page.content, 'lxml'))\n",
    "#print(soup.find_all('div'))\n",
    "table = soup.find_all('div')\n",
    "#print(table)\n",
    "major = [x.text.strip() for x in soup.find_all('div',{'class':['majors-list__list__item__major', 'majors-list__list__item__count']})]\n",
    "#count = [x.text.strip() for x in soup.find_all('div',{'class':'majors-list__list__item__count'})]\n",
    "#print(major)\n",
    "df = pd.DataFrame(data = [[major]],\n",
    "                  columns = ['major'])\n",
    "print( tabulate(df, headers='keys', tablefmt='psql') )\n",
    "#df = pd.DataFrame(data)\n",
    "#df = pd.read_html(str(table))\n",
    "#print( tabulate(df[0], headers='keys', tablefmt='psql') )\n",
    "#Data1 = pd.DataFrame(df[0])\n",
    "#Data1.to_csv(\"clean1.csv\")"
   ]
  },
  {
   "cell_type": "code",
   "execution_count": 4,
   "metadata": {
    "collapsed": true
   },
   "outputs": [],
   "source": [
    "\n",
    "results = soup.find_all(['div'], attrs={'class' : ['majors-list__list__item__major','majors-list__list__item__count']})"
   ]
  },
  {
   "cell_type": "code",
   "execution_count": 5,
   "metadata": {},
   "outputs": [
    {
     "data": {
      "text/plain": [
       "94"
      ]
     },
     "execution_count": 5,
     "metadata": {},
     "output_type": "execute_result"
    }
   ],
   "source": [
    "len(results)"
   ]
  },
  {
   "cell_type": "code",
   "execution_count": 6,
   "metadata": {},
   "outputs": [
    {
     "data": {
      "text/plain": [
       "[<div class=\"majors-list__list__item__major\" data-reactid=\"144\">Drama and Theatre Production</div>,\n",
       " <div class=\"majors-list__list__item__count\" data-reactid=\"145\">21</div>,\n",
       " <div class=\"majors-list__list__item__major\" data-reactid=\"147\">Studio Arts</div>,\n",
       " <div class=\"majors-list__list__item__count\" data-reactid=\"148\">14</div>]"
      ]
     },
     "execution_count": 6,
     "metadata": {},
     "output_type": "execute_result"
    }
   ],
   "source": [
    "results[0:4]"
   ]
  },
  {
   "cell_type": "code",
   "execution_count": 7,
   "metadata": {
    "collapsed": true
   },
   "outputs": [],
   "source": [
    "filteredDayContainers = [tag for tag in soup.find_all('div', \n",
    "    attrs = {'class': ['majors-list__list__item__major','majors-list__list__item__count']}) \n",
    "    if ['majors-list__list__item__major','majors-list__list__item__count'] not in tag.parent['class']]"
   ]
  },
  {
   "cell_type": "code",
   "execution_count": 8,
   "metadata": {},
   "outputs": [
    {
     "data": {
      "text/plain": [
       "[<div class=\"majors-list__list__item__major\" data-reactid=\"144\">Drama and Theatre Production</div>,\n",
       " <div class=\"majors-list__list__item__count\" data-reactid=\"145\">21</div>,\n",
       " <div class=\"majors-list__list__item__major\" data-reactid=\"147\">Studio Arts</div>,\n",
       " <div class=\"majors-list__list__item__count\" data-reactid=\"148\">14</div>]"
      ]
     },
     "execution_count": 8,
     "metadata": {},
     "output_type": "execute_result"
    }
   ],
   "source": [
    "filteredDayContainers[0:4]"
   ]
  },
  {
   "cell_type": "code",
   "execution_count": 56,
   "metadata": {},
   "outputs": [
    {
     "name": "stdout",
     "output_type": "stream",
     "text": [
      "Drama and Theatre Production\n",
      "Studio Arts\n",
      "Web Page and Digital Design\n",
      "Accounting\n",
      "Business\n",
      "Finance\n",
      "Management Sciences and Information Systems\n",
      "Marketing\n",
      "Organizational Behavior Studies\n",
      "Educational Administration\n",
      "High School Education\n",
      "Public Health\n",
      "Anthropology and Archaeology\n",
      "Area and Ethnic Studies\n",
      "Art History\n",
      "Communications\n",
      "Economics\n",
      "English\n",
      "French Language and Literature\n",
      "German Language and Literature\n",
      "History\n",
      "Italian Language and Literature\n",
      "Liberal Arts and Humanities\n",
      "Managerial Economics\n",
      "Music History and Literature\n",
      "Philosophy\n",
      "Political Science and Government\n",
      "Psychology\n",
      "Religious Studies\n",
      "Sociology\n",
      "Spanish Language and Literature\n",
      "Women's Studies\n",
      "Biochemistry and Molecular Biology\n",
      "Bioengineering and Biomedical Engineering\n",
      "Biology\n",
      "Chemistry\n",
      "Civil Engineering\n",
      "Computer Engineering\n",
      "Computer Science\n",
      "Electrical and Electronics Engineering\n",
      "Engineering\n",
      "Engineering Physics\n",
      "Environmental Sciences\n",
      "Environmental Studies\n",
      "Mathematics & Statistics\n",
      "Mechanical Engineering\n",
      "Physics\n"
     ]
    }
   ],
   "source": [
    "for row in soup.find_all('div',attrs={\"class\" : [\"majors-list__list__item__major\",'majors-list__list__item__count'] }):\n",
    "    print (row.text)"
   ]
  },
  {
   "cell_type": "code",
   "execution_count": 12,
   "metadata": {},
   "outputs": [
    {
     "name": "stdout",
     "output_type": "stream",
     "text": [
      "Arts\n",
      "Business\n",
      "Education\n",
      "Health Professions\n",
      "Humanities\n",
      "Science, Technology, and Math\n"
     ]
    }
   ],
   "source": [
    "for row in soup.find_all('button',attrs={\"class\" : 'button button--outline button--green button--xsmall button--compact' }):\n",
    "    print (row.text)"
   ]
  },
  {
   "cell_type": "code",
   "execution_count": 14,
   "metadata": {
    "collapsed": true
   },
   "outputs": [
    {
     "name": "stdout",
     "output_type": "stream",
     "text": [
      "21\n",
      "14\n",
      "10\n",
      "93\n",
      "1\n",
      "140\n",
      "23\n",
      "72\n",
      "10\n",
      "2\n",
      "1\n",
      "49\n",
      "4\n",
      "6\n",
      "3\n",
      "129\n",
      "107\n",
      "41\n",
      "8\n",
      "3\n",
      "17\n",
      "2\n",
      "25\n",
      "15\n",
      "12\n",
      "17\n",
      "109\n",
      "91\n",
      "4\n",
      "28\n",
      "18\n",
      "9\n",
      "19\n",
      "51\n",
      "86\n",
      "15\n",
      "33\n",
      "59\n",
      "22\n",
      "25\n",
      "1\n",
      "3\n",
      "21\n",
      "23\n",
      "15\n",
      "53\n",
      "5\n"
     ]
    }
   ],
   "source": [
    "for row in soup.find_all('div',attrs={\"class\" : ['majors-list__list__item__count'] }):\n",
    "    print (row.text)"
   ]
  },
  {
   "cell_type": "code",
   "execution_count": 69,
   "metadata": {
    "collapsed": true
   },
   "outputs": [],
   "source": [
    "rows = soup.find_all('div',attrs={\"class\" : [\"majors-list__list__item__major\",'majors-list__list__item__count'] })\n",
    "   "
   ]
  },
  {
   "cell_type": "code",
   "execution_count": 49,
   "metadata": {
    "collapsed": true
   },
   "outputs": [],
   "source": [
    "tdList = soup.findAll('div')\n",
    "for td in tdList:\n",
    "    tdList = td.findAll('div')\n"
   ]
  },
  {
   "cell_type": "code",
   "execution_count": 32,
   "metadata": {},
   "outputs": [
    {
     "name": "stdout",
     "output_type": "stream",
     "text": [
      "\n"
     ]
    }
   ],
   "source": [
    "print(td.text)"
   ]
  },
  {
   "cell_type": "code",
   "execution_count": 109,
   "metadata": {},
   "outputs": [
    {
     "name": "stdout",
     "output_type": "stream",
     "text": [
      "{'Majors': [], 'Count': []}\n",
      "[]\n",
      "[]\n"
     ]
    },
    {
     "ename": "IndexError",
     "evalue": "list index out of range",
     "output_type": "error",
     "traceback": [
      "\u001b[1;31m---------------------------------------------------------------------------\u001b[0m",
      "\u001b[1;31mIndexError\u001b[0m                                Traceback (most recent call last)",
      "\u001b[1;32m<ipython-input-109-e32caee37cda>\u001b[0m in \u001b[0;36m<module>\u001b[1;34m()\u001b[0m\n\u001b[0;32m     16\u001b[0m     \u001b[0mcols\u001b[0m \u001b[1;33m=\u001b[0m \u001b[0mrow\u001b[0m\u001b[1;33m.\u001b[0m\u001b[0mfind_all\u001b[0m\u001b[1;33m(\u001b[0m\u001b[1;34m'div'\u001b[0m\u001b[1;33m)\u001b[0m\u001b[1;33m\u001b[0m\u001b[0m\n\u001b[0;32m     17\u001b[0m     \u001b[0mprint\u001b[0m\u001b[1;33m(\u001b[0m\u001b[0mcols\u001b[0m\u001b[1;33m)\u001b[0m\u001b[1;33m\u001b[0m\u001b[0m\n\u001b[1;32m---> 18\u001b[1;33m     \u001b[0mdata\u001b[0m\u001b[1;33m[\u001b[0m\u001b[1;34m'Majors'\u001b[0m\u001b[1;33m]\u001b[0m\u001b[1;33m.\u001b[0m\u001b[0mappend\u001b[0m\u001b[1;33m(\u001b[0m \u001b[0mcols\u001b[0m\u001b[1;33m[\u001b[0m\u001b[1;36m0\u001b[0m\u001b[1;33m]\u001b[0m\u001b[1;33m.\u001b[0m\u001b[0mget_text\u001b[0m\u001b[1;33m(\u001b[0m\u001b[1;33m)\u001b[0m \u001b[1;33m)\u001b[0m\u001b[1;33m\u001b[0m\u001b[0m\n\u001b[0m\u001b[0;32m     19\u001b[0m \u001b[1;33m\u001b[0m\u001b[0m\n\u001b[0;32m     20\u001b[0m     \u001b[0mdata\u001b[0m\u001b[1;33m[\u001b[0m\u001b[1;34m'Count'\u001b[0m\u001b[1;33m]\u001b[0m\u001b[1;33m.\u001b[0m\u001b[0mappend\u001b[0m\u001b[1;33m(\u001b[0m \u001b[0mcols\u001b[0m\u001b[1;33m[\u001b[0m\u001b[1;36m0\u001b[0m\u001b[1;33m]\u001b[0m\u001b[1;33m.\u001b[0m\u001b[0mget_text\u001b[0m\u001b[1;33m(\u001b[0m\u001b[1;33m)\u001b[0m \u001b[1;33m)\u001b[0m\u001b[1;33m\u001b[0m\u001b[0m\n",
      "\u001b[1;31mIndexError\u001b[0m: list index out of range"
     ]
    }
   ],
   "source": [
    "rows = soup.find_all('div',attrs={'class' : [\"majors-list__list__item__major\",'majors-list__list__item__count']})\n",
    "\n",
    "for row in rows:\n",
    "    cols = row.find_all('div')\n",
    "\n",
    "data = {\n",
    "    'Majors' : [],\n",
    "    'Count' : []\n",
    "}\n",
    "print(data)\n",
    "print(data['Majors'])\n",
    "\n",
    "\n",
    "\n",
    "for row in rows:\n",
    "    cols = row.find_all('div')\n",
    "    print(cols)\n",
    "    data['Majors'].append( cols[0].get_text() )\n",
    "   \n",
    "    data['Count'].append( cols[1].get_text() )\n",
    "    \n",
    "import pandas as pd;\n",
    "Data1= pd.DataFrame( data )\n",
    "\n",
    "Data1.to_csv(\"clean.csv\")\n",
    "\n"
   ]
  },
  {
   "cell_type": "code",
   "execution_count": 78,
   "metadata": {
    "collapsed": true
   },
   "outputs": [],
   "source": [
    "rows = soup.find_all('div',attrs={\"class\" : [\"majors-list__list__item__major\",'majors-list__list__item__count'] })"
   ]
  },
  {
   "cell_type": "code",
   "execution_count": 62,
   "metadata": {
    "collapsed": true
   },
   "outputs": [],
   "source": [
    "table = soup.find( \"div\", {\"class\":\"majors-list__list__item__major\"} )\n",
    "\n",
    "table = soup.find_all('div')\n",
    "\n",
    "table = soup.find_all('div')[0]\n",
    "rows = table.find_all('div')[3:]\n",
    "\n",
    "\n",
    "for row in rows:\n",
    "    cols = row.find_all('div',{\"class\":\"majors-list__list__item__major\"})\n",
    "\n",
    "data = {\n",
    "    'Majors' : [],\n",
    "    'Count' : [],\n",
    "}"
   ]
  },
  {
   "cell_type": "code",
   "execution_count": 79,
   "metadata": {
    "collapsed": true
   },
   "outputs": [],
   "source": [
    "\n",
    "import pandas as pd;\n",
    "dogData = pd.DataFrame( data )"
   ]
  },
  {
   "cell_type": "code",
   "execution_count": 80,
   "metadata": {
    "collapsed": true
   },
   "outputs": [],
   "source": [
    "\n",
    "dogData.to_csv(\"AKC.csv\")"
   ]
  },
  {
   "cell_type": "code",
   "execution_count": 8,
   "metadata": {},
   "outputs": [
    {
     "name": "stdout",
     "output_type": "stream",
     "text": [
      "<!DOCTYPE html>\n",
      "<html lang=\"en\"><head><meta charset=\"utf-8\"/><meta content=\"ie=edge\" http-equiv=\"x-ua-compatible\"/><meta content=\"width=device-width, user-scalable=no, initial-scale=1\" name=\"viewport\"/><meta content=\"298822776951871\" property=\"fb:app_id\"/><meta content=\"Niche\" property=\"og:site_name\"/><meta content=\"en_US\" property=\"og:locale\"/><meta content=\"#FFFFFF\" name=\"msapplication-TileColor\"/><meta content=\"https://d33a4decm84gsn.cloudfront.net/static/favicons/favicon-144.png\" name=\"msapplication-TileImage\"/><meta content=\"https://d33a4decm84gsn.cloudfront.net/static/favicons/browserconfig.xml\" name=\"msapplication-config\"/><meta content=\"#53a63a\" name=\"theme-color\"/><meta content=\"always\" name=\"referrer\"/><link href=\"/favicon.ico\" rel=\"shortcut icon\"/><link href=\"https://d33a4decm84gsn.cloudfront.net/static/favicons/favicon.ico\" rel=\"icon\" sizes=\"16x16 32x32 64x64\"/><link href=\"https://d33a4decm84gsn.cloudfront.net/static/favicons/favicon-192.png\" rel=\"icon\" sizes=\"196x196\" type=\"image/png\"/><link href=\"https://d33a4decm84gsn.cloudfront.net/static/favicons/favicon-160.png\" rel=\"icon\" sizes=\"160x160\" type=\"image/png\"/><link href=\"https://d33a4decm84gsn.cloudfront.net/static/favicons/favicon-96.png\" rel=\"icon\" sizes=\"96x96\" type=\"image/png\"/><link href=\"https://d33a4decm84gsn.cloudfront.net/static/favicons/favicon-64.png\" rel=\"icon\" sizes=\"64x64\" type=\"image/png\"/><link href=\"https://d33a4decm84gsn.cloudfront.net/static/favicons/favicon-32.png\" rel=\"icon\" sizes=\"32x32\" type=\"image/png\"/><link href=\"https://d33a4decm84gsn.cloudfront.net/static/favicons/favicon-16.png\" rel=\"icon\" sizes=\"16x16\" type=\"image/png\"/><link href=\"https://d33a4decm84gsn.cloudfront.net/static/favicons/favicon-57.png\" rel=\"apple-touch-icon\"/><link href=\"https://d33a4decm84gsn.cloudfront.net/static/favicons/favicon-60.png\" rel=\"apple-touch-icon\" sizes=\"60x60\"/><link href=\"https://d33a4decm84gsn.cloudfront.net/static/favicons/favicon-72.png\" rel=\"apple-touch-icon\" sizes=\"72x72\"/><link href=\"https://d33a4decm84gsn.cloudfront.net/static/favicons/favicon-76.png\" rel=\"apple-touch-icon\" sizes=\"76x76\"/><link href=\"https://d33a4decm84gsn.cloudfront.net/static/favicons/favicon-114.png\" rel=\"apple-touch-icon\" sizes=\"114x114\"/><link href=\"https://d33a4decm84gsn.cloudfront.net/static/favicons/favicon-120.png\" rel=\"apple-touch-icon\" sizes=\"120x120\"/><link href=\"https://d33a4decm84gsn.cloudfront.net/static/favicons/favicon-144.png\" rel=\"apple-touch-icon\" sizes=\"144x144\"/><link href=\"https://d33a4decm84gsn.cloudfront.net/static/favicons/favicon-152.png\" rel=\"apple-touch-icon\" sizes=\"152x152\"/><link href=\"https://d33a4decm84gsn.cloudfront.net/static/favicons/favicon-180.png\" rel=\"apple-touch-icon\" sizes=\"180x180\"/><link href=\"https://d33a4decm84gsn.cloudfront.net/production/90/styles-17796975ae8e7f008194.css\" rel=\"stylesheet\" type=\"text/css\"/><title data-react-helmet=\"true\">Santa Clara University Majors - Niche</title><meta content=\"List of Santa Clara University majors by size and degree. See the most popular majors at Santa Clara University.\" data-react-helmet=\"true\" name=\"description\"/><meta content=\"Santa Clara University majors, list of Santa Clara University majors, college majors\" data-react-helmet=\"true\" name=\"keywords\"/><meta content=\"List of Santa Clara University majors by size and degree.\" data-react-helmet=\"true\" property=\"og:description\"/><meta content=\"https://d33a4decm84gsn.cloudfront.net/social-share/niche-colleges-1910px.png\" data-react-helmet=\"true\" property=\"og:image\"/><meta content=\"1000\" data-react-helmet=\"true\" property=\"og:image:height\"/><meta content=\"1910\" data-react-helmet=\"true\" property=\"og:image:width\"/><meta content=\"Santa Clara University Majors\" data-react-helmet=\"true\" property=\"og:title\"/><meta content=\"website\" data-react-helmet=\"true\" property=\"og:type\"/><meta content=\"https://www.niche.com/colleges/santa-clara-university/majors/\" data-react-helmet=\"true\" property=\"og:url\"/><link data-react-helmet=\"true\" href=\"https://www.niche.com/colleges/santa-clara-university/majors/\" rel=\"canonical\"/><script src=\"https://cdnjs.cloudflare.com/ajax/libs/webfont/1.6.27/webfontloader.js\"></script><script>\n",
      "                    WebFont.load({\n",
      "                        google: {\n",
      "                            families: [ 'Source Sans Pro:300,400,600,700' ]\n",
      "                        },\n",
      "                        timeout: 2000\n",
      "                    })\n",
      "                </script><script data-react-helmet=\"true\" type=\"application/ld+json\">{\"@context\":\"http://schema.org\",\"@type\":\"WebSite\",\"name\":\"Niche\",\"sameAs\":[\"https://www.facebook.com/nichesocial\",\"https://www.twitter.com/nicheSocial\",\"https://plus.google.com/+Nichesocial\",\"https://www.linkedin.com/company/nichesocial\"],\"url\":\"https://www.niche.com/\"}</script></head><body><script>window.addEventListener('popstate', function(event) {\n",
      "                        if (event.state && typeof event.state.dL !== 'undefined') {\n",
      "                            window.dataLayer.push(event.state.dL);\n",
      "                        }\n",
      "                    });</script><script id=\"dataLayerTag\">dataLayer = [{\"event\":\"virtualPageview\",\"entityGuid\":\"3b71452f-b6c1-4c12-86a2-1f4e160fdfb3\",\"entityType\":\"College\",\"pageType\":\"profile_majors\",\"userType\":\"none\",\"variation\":\"4\",\"vertical\":\"colleges\",\"les1\":null,\"ues1\":null,\"lds1\":null,\"lem5\":null,\"uem5\":null,\"les256\":null,\"ues256\":null,\"userGuid\":\"00000000-0000-0000-0000-000000000000\"}]</script><noscript><iframe height=\"0\" src=\"//www.googletagmanager.com/ns.html?id=GTM-WRF8NN\" style=\"display:none;visibility:hidden;\" width=\"0\"></iframe></noscript><script>(function(n,i,c,h,e){n[h]=n[h]||[];n[h].push(\n",
      "                        {'gtm.start': new Date().getTime(),event:'gtm.js'}\n",
      "                        );var f=i.getElementsByTagName(c)[0],\n",
      "                        j=i.createElement(c),dl=h!='dataLayer'?'&l='+h:'';j.async=true;j.src=\n",
      "                        '//www.googletagmanager.com/gtm.js?id='+e+dl;f.parentNode.insertBefore(j,f);\n",
      "                        })(window,document,'script','dataLayer','GTM-WRF8NN');</script><script async=\"\" src=\"https://www.googletagservices.com/tag/js/gpt.js\"></script><script>\n",
      "                        var googletag = googletag || {};\n",
      "                        googletag.cmd = googletag.cmd || [];\n",
      "\n",
      "                        googletag.cmd.push(function () {\n",
      "                            googletag.pubads().setTargeting('ip', '108.67.0.82');\n",
      "\t\t\t\t\t\t\t\tgoogletag.pubads().setTargeting('entity', '3b71452f-b6c1-4c12-86a2-1f4e160fdfb3');\n",
      "                        });</script><div class=\"platform__wrapper\" id=\"app\"><div class=\"platform\" data-react-checksum=\"561534621\" data-reactid=\"1\" data-reactroot=\"\"><section data-reactid=\"2\"><!-- react-empty: 3 --><section class=\"global-navigation\" data-reactid=\"4\"><section class=\"global-menu__wrapper\" data-reactid=\"5\"><nav class=\"global-menu\" data-reactid=\"6\" role=\"menubar\"><span class=\"icon-hamburger-thin--global-menu\" data-reactid=\"7\" role=\"button\" tabindex=\"0\"></span><figure class=\"global-menu-logo global-menu-logo--vertical\" data-reactid=\"8\"><a alt=\"Niche\" class=\"global-menu-logo__link\" data-reactid=\"9\" href=\"https://www.niche.com/?ref=colleges\"><div class=\"global-menu-logo-horizontal\" data-reactid=\"10\"><svg class=\"niche-logo-horizontal\" data-reactid=\"11\" viewbox=\"0 0 501.59 76.95\" xlink:href=\"http://www.w3.org/1999/xlink\" xmlns=\"http://www.w3.org/2000/svg\">\n",
      "<defs>\n",
      "<path d=\"M441.03 26.18c13.75 0 23.42-8.44 34.92-8.44 12.91 0 20.91 9.14 23.34 9.14a2.13 2.13 0 0 0 2.3-2.43c0-3.35-13.68-11.27-25.24-11.27-15.74 0-22.28 8.49-35.34 8.49-14 0-18.44-8-21.45-8a2.29 2.29 0 0 0-2.36 2.39c0 3.62 13.08 10.12 23.83 10.12z\" fill=\"#53a63a\" id=\"a\"></path>\n",
      "<path d=\"M52.57 6.41c-2 0-3.54 1.19-3.54 4.18v46.17L6.57 7.83a3.74 3.74 0 0 0-3-1.42c-2 0-3.54 1.19-3.54 4.18v56.42a3.54 3.54 0 0 0 7.07 0V18.63l42.71 50.63a4.18 4.18 0 0 0 2.79 1.23 3.54 3.54 0 0 0 3.54-3.53V10.67c0-2.91-1.57-4.26-3.57-4.26z\" fill=\"#53a63a\" id=\"b\"></path>\n",
      "</defs>\n",
      "<use xlink:href=\"#a\"></use>\n",
      "<use xlink:href=\"#a\" y=\"19.5\"></use>\n",
      "<use xlink:href=\"#a\" y=\"39\"></use>\n",
      "<path d=\"M81.45 6.41c-2 0-3.54 1.19-3.54 4.18v56.42a3.54 3.54 0 0 0 7.07 0V10.67c.01-2.91-1.58-4.26-3.53-4.26z\" fill=\"#53a63a\"></path>\n",
      "<use xlink:href=\"#b\"></use>\n",
      "<use transform=\"scale(.65)\" x=\"547\" xlink:href=\"#b\" y=\"22\"></use>\n",
      "<path d=\"M234.5 6.41c-2 0-3.53 1.19-3.53 4.18v24.44h-42V10.67c0-2.91-1.58-4.26-3.53-4.26h-.09c-2 0-3.53 1.19-3.53 4.18v56.42a3.54 3.54 0 0 0 3.53 3.53h.09a3.53 3.53 0 0 0 3.53-3.53v-26h42v26a3.535 3.535 0 0 0 7.07 0V10.67c-.01-2.91-1.59-4.26-3.54-4.26zM135.65 11.68c14.25 0 18 9.53 21.72 9.53 2.2 0 3.71-1.29 3.71-3.13 0-3.91-12.18-12.61-24.93-12.61-26 0-33.41 19.87-33.41 32.2 0 17.75 11.41 33 33.08 33 13 0 24.36-8.19 24.36-11.31a3.46 3.46 0 0 0-3.53-3.62c-3.67 0-6.75 8.57-20.59 8.57-19 0-25.9-14.59-25.9-27s7.74-25.63 25.49-25.63zM307.27 12.37c2.45 0 3.59-1.33 3.59-3s-1-3-3.52-3h-43.32c-2 0-3.53 1.19-3.53 4.18v56.42a3.54 3.54 0 0 0 3.53 3.53h43.25c2.45 0 3.59-1.33 3.59-3s-1-3-3.52-3h-39.7V40.98h32c2.45 0 3.59-1.33 3.59-3s-1-3-3.51-3h-32.08V12.37z\" fill=\"#53a63a\"></path>\n",
      "<circle cx=\"373.68\" cy=\"38.47\" fill=\"none\" r=\"36.22\" stroke=\"#53a63a\" stroke-miterlimit=\"10\" stroke-width=\"4.5\"></circle>\n",
      "</svg></div><figcaption class=\"global-menu-vertical\" data-reactid=\"12\">Colleges</figcaption></a></figure><ul class=\"global-menu__list\" data-reactid=\"13\"><li class=\"global-menu__list__item\" data-reactid=\"14\"><a class=\"global-menu__list__item__link\" data-reactid=\"15\" href=\"https://www.niche.com/places-to-live/\" role=\"menuitem\">Places to Live</a></li><li class=\"global-menu__list__item\" data-reactid=\"16\"><a class=\"global-menu__list__item__link\" data-reactid=\"17\" href=\"https://www.niche.com/k12/\" role=\"menuitem\">K-12</a></li><li class=\"global-menu__list__item--selected\" data-reactid=\"18\"><a class=\"global-menu__list__item__link--selected\" data-reactid=\"19\" href=\"https://www.niche.com/colleges/\" role=\"menuitem\">Colleges</a></li></ul><div class=\"global-account-nav\" data-reactid=\"20\"><div class=\"global-account-login-reg\" data-reactid=\"21\"><div class=\"global-account-login-reg__mobile\" data-reactid=\"22\"><div class=\"popover popover--right\" data-reactid=\"23\"><a class=\"popover__trigger\" data-reactid=\"24\" role=\"button\" tabindex=\"0\"><i class=\"global-account-icon\" data-reactid=\"25\"></i></a><div class=\"popover__content\" data-reactid=\"26\"><ul class=\"popover-list\" data-reactid=\"27\"><li class=\"popover-list__item\" data-reactid=\"28\"><a data-reactid=\"29\" href=\"https://www.niche.com/account/register/\">Sign Up</a></li><li class=\"popover-list__item\" data-reactid=\"30\"><a data-reactid=\"31\" href=\"https://www.niche.com/account/login/\">Log In</a></li></ul></div></div></div><div class=\"global-account-login-reg__desktop\" data-reactid=\"32\"><button class=\"button button--bare global-account-login-button\" data-reactid=\"33\">Log In</button><button class=\"button button--green button--xsmall button--outline button--compact global-account-reg-button\" data-reactid=\"34\">Sign Up</button></div></div></div></nav></section><section class=\"secondary-nav\" data-reactid=\"35\"><nav class=\"secondary-nav__container\" data-reactid=\"36\" role=\"menubar\"><div class=\"secondary-nav-menu-wrapper\" data-reactid=\"37\"><style data-reactid=\"38\" type=\"text/css\">@media only screen and (min-width: 0px) {\n",
      "                \n",
      "        .secondary-nav-menu__item[data-secondary-nav-item=\"search\"] {\n",
      "            color: #fff;\n",
      "            display: block;\n",
      "        }\n",
      "    \n",
      "\n",
      "        .secondary-nav-menu__item[data-secondary-nav-item=\"rankings\"] {\n",
      "            color: #fff;\n",
      "            display: none;\n",
      "        }\n",
      "    \n",
      "\n",
      "        .secondary-nav-menu__item[data-secondary-nav-item=\"scholarships\"] {\n",
      "            color: #fff;\n",
      "            display: none;\n",
      "        }\n",
      "    \n",
      "\n",
      "        .secondary-nav-menu__item[data-secondary-nav-item=\"no-essay\"] {\n",
      "            color: #fff;\n",
      "            display: none;\n",
      "        }\n",
      "    \n",
      "\n",
      "        .secondary-nav-menu__item[data-secondary-nav-item=\"survey\"] {\n",
      "            color: #fff;\n",
      "            display: none;\n",
      "        }\n",
      "    \n",
      "\n",
      "        .secondary-nav-menu__item[data-secondary-nav-item=\"admissions-calculator\"] {\n",
      "            color: #fff;\n",
      "            display: none;\n",
      "        }\n",
      "    \n",
      "                \n",
      "                .secondary-nav-dropdown {\n",
      "                    color: #fff;\n",
      "                    display: block;\n",
      "                }\n",
      "             }\n",
      "@media only screen and (min-width: 270px) {\n",
      "                \n",
      "        .secondary-nav-menu__item[data-secondary-nav-item=\"search\"] {\n",
      "            color: #fff;\n",
      "            display: block;\n",
      "        }\n",
      "    \n",
      "\n",
      "        .secondary-nav-menu__item[data-secondary-nav-item=\"rankings\"] {\n",
      "            color: #fff;\n",
      "            display: block;\n",
      "        }\n",
      "    \n",
      "\n",
      "        .secondary-nav-menu__item[data-secondary-nav-item=\"scholarships\"] {\n",
      "            color: #fff;\n",
      "            display: none;\n",
      "        }\n",
      "    \n",
      "\n",
      "        .secondary-nav-menu__item[data-secondary-nav-item=\"no-essay\"] {\n",
      "            color: #fff;\n",
      "            display: none;\n",
      "        }\n",
      "    \n",
      "\n",
      "        .secondary-nav-menu__item[data-secondary-nav-item=\"survey\"] {\n",
      "            color: #fff;\n",
      "            display: none;\n",
      "        }\n",
      "    \n",
      "\n",
      "        .secondary-nav-menu__item[data-secondary-nav-item=\"admissions-calculator\"] {\n",
      "            color: #fff;\n",
      "            display: none;\n",
      "        }\n",
      "    \n",
      "                \n",
      "                .secondary-nav-dropdown {\n",
      "                    color: #fff;\n",
      "                    display: block;\n",
      "                }\n",
      "             }\n",
      "@media only screen and (min-width: 370px) {\n",
      "                \n",
      "        .secondary-nav-menu__item[data-secondary-nav-item=\"search\"] {\n",
      "            color: #fff;\n",
      "            display: block;\n",
      "        }\n",
      "    \n",
      "\n",
      "        .secondary-nav-menu__item[data-secondary-nav-item=\"rankings\"] {\n",
      "            color: #fff;\n",
      "            display: block;\n",
      "        }\n",
      "    \n",
      "\n",
      "        .secondary-nav-menu__item[data-secondary-nav-item=\"scholarships\"] {\n",
      "            color: #fff;\n",
      "            display: block;\n",
      "        }\n",
      "    \n",
      "\n",
      "        .secondary-nav-menu__item[data-secondary-nav-item=\"no-essay\"] {\n",
      "            color: #fff;\n",
      "            display: none;\n",
      "        }\n",
      "    \n",
      "\n",
      "        .secondary-nav-menu__item[data-secondary-nav-item=\"survey\"] {\n",
      "            color: #fff;\n",
      "            display: none;\n",
      "        }\n",
      "    \n",
      "\n",
      "        .secondary-nav-menu__item[data-secondary-nav-item=\"admissions-calculator\"] {\n",
      "            color: #fff;\n",
      "            display: none;\n",
      "        }\n",
      "    \n",
      "                \n",
      "                .secondary-nav-dropdown {\n",
      "                    color: #fff;\n",
      "                    display: block;\n",
      "                }\n",
      "             }\n",
      "@media only screen and (min-width: 560px) {\n",
      "                \n",
      "        .secondary-nav-menu__item[data-secondary-nav-item=\"search\"] {\n",
      "            color: #fff;\n",
      "            display: block;\n",
      "        }\n",
      "    \n",
      "\n",
      "        .secondary-nav-menu__item[data-secondary-nav-item=\"rankings\"] {\n",
      "            color: #fff;\n",
      "            display: block;\n",
      "        }\n",
      "    \n",
      "\n",
      "        .secondary-nav-menu__item[data-secondary-nav-item=\"scholarships\"] {\n",
      "            color: #fff;\n",
      "            display: block;\n",
      "        }\n",
      "    \n",
      "\n",
      "        .secondary-nav-menu__item[data-secondary-nav-item=\"no-essay\"] {\n",
      "            color: #fff;\n",
      "            display: block;\n",
      "        }\n",
      "    \n",
      "\n",
      "        .secondary-nav-menu__item[data-secondary-nav-item=\"survey\"] {\n",
      "            color: #fff;\n",
      "            display: none;\n",
      "        }\n",
      "    \n",
      "\n",
      "        .secondary-nav-menu__item[data-secondary-nav-item=\"admissions-calculator\"] {\n",
      "            color: #fff;\n",
      "            display: none;\n",
      "        }\n",
      "    \n",
      "                \n",
      "                .secondary-nav-dropdown {\n",
      "                    color: #fff;\n",
      "                    display: block;\n",
      "                }\n",
      "             }\n",
      "@media only screen and (min-width: 625px) {\n",
      "                \n",
      "        .secondary-nav-menu__item[data-secondary-nav-item=\"search\"] {\n",
      "            color: #fff;\n",
      "            display: block;\n",
      "        }\n",
      "    \n",
      "\n",
      "        .secondary-nav-menu__item[data-secondary-nav-item=\"rankings\"] {\n",
      "            color: #fff;\n",
      "            display: block;\n",
      "        }\n",
      "    \n",
      "\n",
      "        .secondary-nav-menu__item[data-secondary-nav-item=\"scholarships\"] {\n",
      "            color: #fff;\n",
      "            display: block;\n",
      "        }\n",
      "    \n",
      "\n",
      "        .secondary-nav-menu__item[data-secondary-nav-item=\"no-essay\"] {\n",
      "            color: #fff;\n",
      "            display: block;\n",
      "        }\n",
      "    \n",
      "\n",
      "        .secondary-nav-menu__item[data-secondary-nav-item=\"survey\"] {\n",
      "            color: #fff;\n",
      "            display: block;\n",
      "        }\n",
      "    \n",
      "\n",
      "        .secondary-nav-menu__item[data-secondary-nav-item=\"admissions-calculator\"] {\n",
      "            color: #fff;\n",
      "            display: none;\n",
      "        }\n",
      "    \n",
      "                \n",
      "                .secondary-nav-dropdown {\n",
      "                    color: #fff;\n",
      "                    display: block;\n",
      "                }\n",
      "             }\n",
      "@media only screen and (min-width: 730px) {\n",
      "                \n",
      "        .secondary-nav-menu__item[data-secondary-nav-item=\"search\"] {\n",
      "            color: #fff;\n",
      "            display: block;\n",
      "        }\n",
      "    \n",
      "\n",
      "        .secondary-nav-menu__item[data-secondary-nav-item=\"rankings\"] {\n",
      "            color: #fff;\n",
      "            display: block;\n",
      "        }\n",
      "    \n",
      "\n",
      "        .secondary-nav-menu__item[data-secondary-nav-item=\"scholarships\"] {\n",
      "            color: #fff;\n",
      "            display: block;\n",
      "        }\n",
      "    \n",
      "\n",
      "        .secondary-nav-menu__item[data-secondary-nav-item=\"no-essay\"] {\n",
      "            color: #fff;\n",
      "            display: block;\n",
      "        }\n",
      "    \n",
      "\n",
      "        .secondary-nav-menu__item[data-secondary-nav-item=\"survey\"] {\n",
      "            color: #fff;\n",
      "            display: block;\n",
      "        }\n",
      "    \n",
      "\n",
      "        .secondary-nav-menu__item[data-secondary-nav-item=\"admissions-calculator\"] {\n",
      "            color: #fff;\n",
      "            display: block;\n",
      "        }\n",
      "    \n",
      "                \n",
      "                .secondary-nav-dropdown {\n",
      "                    color: #fff;\n",
      "                    display: none;\n",
      "                }\n",
      "             }\n",
      "@media only screen and (min-width: 768px) {\n",
      "                \n",
      "        .secondary-nav-menu__item[data-secondary-nav-item=\"search\"] {\n",
      "            color: #fff;\n",
      "            display: block;\n",
      "        }\n",
      "    \n",
      "\n",
      "        .secondary-nav-menu__item[data-secondary-nav-item=\"rankings\"] {\n",
      "            color: #fff;\n",
      "            display: block;\n",
      "        }\n",
      "    \n",
      "\n",
      "        .secondary-nav-menu__item[data-secondary-nav-item=\"scholarships\"] {\n",
      "            color: #fff;\n",
      "            display: none;\n",
      "        }\n",
      "    \n",
      "\n",
      "        .secondary-nav-menu__item[data-secondary-nav-item=\"no-essay\"] {\n",
      "            color: #fff;\n",
      "            display: none;\n",
      "        }\n",
      "    \n",
      "\n",
      "        .secondary-nav-menu__item[data-secondary-nav-item=\"survey\"] {\n",
      "            color: #fff;\n",
      "            display: none;\n",
      "        }\n",
      "    \n",
      "\n",
      "        .secondary-nav-menu__item[data-secondary-nav-item=\"admissions-calculator\"] {\n",
      "            color: #fff;\n",
      "            display: none;\n",
      "        }\n",
      "    \n",
      "                \n",
      "                .secondary-nav-dropdown {\n",
      "                    color: #fff;\n",
      "                    display: block;\n",
      "                }\n",
      "             }\n",
      "@media only screen and (min-width: 790px) {\n",
      "                \n",
      "        .secondary-nav-menu__item[data-secondary-nav-item=\"search\"] {\n",
      "            color: #fff;\n",
      "            display: block;\n",
      "        }\n",
      "    \n",
      "\n",
      "        .secondary-nav-menu__item[data-secondary-nav-item=\"rankings\"] {\n",
      "            color: #fff;\n",
      "            display: block;\n",
      "        }\n",
      "    \n",
      "\n",
      "        .secondary-nav-menu__item[data-secondary-nav-item=\"scholarships\"] {\n",
      "            color: #fff;\n",
      "            display: block;\n",
      "        }\n",
      "    \n",
      "\n",
      "        .secondary-nav-menu__item[data-secondary-nav-item=\"no-essay\"] {\n",
      "            color: #fff;\n",
      "            display: none;\n",
      "        }\n",
      "    \n",
      "\n",
      "        .secondary-nav-menu__item[data-secondary-nav-item=\"survey\"] {\n",
      "            color: #fff;\n",
      "            display: none;\n",
      "        }\n",
      "    \n",
      "\n",
      "        .secondary-nav-menu__item[data-secondary-nav-item=\"admissions-calculator\"] {\n",
      "            color: #fff;\n",
      "            display: none;\n",
      "        }\n",
      "    \n",
      "                \n",
      "                .secondary-nav-dropdown {\n",
      "                    color: #fff;\n",
      "                    display: block;\n",
      "                }\n",
      "             }\n",
      "@media only screen and (min-width: 1000px) {\n",
      "                \n",
      "        .secondary-nav-menu__item[data-secondary-nav-item=\"search\"] {\n",
      "            color: #fff;\n",
      "            display: block;\n",
      "        }\n",
      "    \n",
      "\n",
      "        .secondary-nav-menu__item[data-secondary-nav-item=\"rankings\"] {\n",
      "            color: #fff;\n",
      "            display: block;\n",
      "        }\n",
      "    \n",
      "\n",
      "        .secondary-nav-menu__item[data-secondary-nav-item=\"scholarships\"] {\n",
      "            color: #fff;\n",
      "            display: block;\n",
      "        }\n",
      "    \n",
      "\n",
      "        .secondary-nav-menu__item[data-secondary-nav-item=\"no-essay\"] {\n",
      "            color: #fff;\n",
      "            display: block;\n",
      "        }\n",
      "    \n",
      "\n",
      "        .secondary-nav-menu__item[data-secondary-nav-item=\"survey\"] {\n",
      "            color: #fff;\n",
      "            display: none;\n",
      "        }\n",
      "    \n",
      "\n",
      "        .secondary-nav-menu__item[data-secondary-nav-item=\"admissions-calculator\"] {\n",
      "            color: #fff;\n",
      "            display: none;\n",
      "        }\n",
      "    \n",
      "                \n",
      "                .secondary-nav-dropdown {\n",
      "                    color: #fff;\n",
      "                    display: block;\n",
      "                }\n",
      "             }</style><ul class=\"secondary-nav-menu\" data-reactid=\"39\" role=\"menu\"><li class=\"secondary-nav-menu__item\" data-reactid=\"40\" data-secondary-nav-item=\"search\" role=\"menuitem\"><a class=\"secondary-nav-menu-link\" data-desktop-label=\"College Search\" data-mobile-label=\"Search\" data-reactid=\"41\" href=\"https://www.niche.com/colleges/\"><span class=\"secondary-nav-menu-link__label\" data-reactid=\"42\">College Search</span></a></li><li class=\"secondary-nav-menu__item\" data-reactid=\"43\" data-secondary-nav-item=\"rankings\" role=\"menuitem\"><a class=\"secondary-nav-menu-link\" data-desktop-label=\"College Rankings\" data-mobile-label=\"Rankings\" data-reactid=\"44\" href=\"https://www.niche.com/colleges/rankings/\"><span class=\"secondary-nav-menu-link__label\" data-reactid=\"45\">College Rankings</span></a></li><li class=\"secondary-nav-menu__item\" data-reactid=\"46\" data-secondary-nav-item=\"scholarships\" role=\"menuitem\"><a class=\"secondary-nav-menu-link\" data-desktop-label=\"Scholarships\" data-mobile-label=\"Scholarships\" data-reactid=\"47\" href=\"https://www.niche.com/colleges/scholarships/\"><span class=\"secondary-nav-menu-link__label\" data-reactid=\"48\">Scholarships</span></a></li><li class=\"secondary-nav-menu__item\" data-reactid=\"49\" data-secondary-nav-item=\"no-essay\" role=\"menuitem\"><a class=\"secondary-nav-menu-link\" data-desktop-label=\"$2,000 No Essay Scholarship\" data-mobile-label=\"$2,000 No Essay Scholarship\" data-reactid=\"50\" href=\"https://www.niche.com/colleges/scholarship/no-essay-scholarship/\"><span class=\"secondary-nav-menu-link__label\" data-reactid=\"51\">$2,000 No Essay Scholarship</span></a></li><li class=\"secondary-nav-menu__item\" data-reactid=\"52\" data-secondary-nav-item=\"survey\" role=\"menuitem\"><a class=\"secondary-nav-menu-link\" data-desktop-label=\"Review Your College\" data-mobile-label=\"Review\" data-reactid=\"53\" href=\"https://www.niche.com/colleges/survey/\"><span class=\"secondary-nav-menu-link__label\" data-reactid=\"54\">Review Your College</span></a></li><li class=\"secondary-nav-menu__item\" data-reactid=\"55\" data-secondary-nav-item=\"admissions-calculator\" role=\"menuitem\"><a class=\"secondary-nav-menu-link\" data-desktop-label=\"Admissions Calculator\" data-mobile-label=\"Admissions Calculator\" data-reactid=\"56\" href=\"https://www.niche.com/colleges/admissions-calculator/\"><span class=\"secondary-nav-menu-link__label\" data-reactid=\"57\">Admissions Calculator</span></a></li><li class=\"secondary-nav-dropdown\" data-reactid=\"58\" role=\"menuitem\"><a aria-haspopup=\"true\" class=\"secondary-nav-dropdown__trigger\" data-reactid=\"59\" href=\"#\"><!-- react-text: 60 -->More <!-- /react-text --><i class=\"icon-arrowdown-thin\" data-reactid=\"61\"></i></a><ul aria-hidden=\"true\" aria-label=\"submenu\" class=\"secondary-nav-dropdown-menu\" data-reactid=\"62\"></ul></li></ul></div><div class=\"secondary-nav-sherlock\" data-reactid=\"63\"><button class=\"button--bare secondary-nav-sherlock__button\" data-reactid=\"64\"><i class=\"icon-search-thin\" data-reactid=\"65\"></i><!-- react-text: 66 --> Expand Mobile Menu<!-- /react-text --></button><div class=\"sherlock__wrapper\" data-reactid=\"67\"><input autocapitalize=\"off\" autocomplete=\"off\" autocorrect=\"off\" class=\"sherlock\" data-reactid=\"68\" maxlength=\"512\" placeholder=\"Search colleges ...\" tabindex=\"0\" type=\"text\"/><span class=\"icon-search-thin--sherlock\" data-reactid=\"69\"></span></div></div></nav></section></section><div class=\"content\" data-reactid=\"70\"><noscript data-reactid=\"71\"><div class=\"noscript\"><span>Niche requires Javascript to work correctly. Please <a href=\"http://www.enable-javascript.com/\" target=\"_blank\">turn it on</a> if you're experiencing issues.</span></div></noscript><div class=\"profile profile--majors\" data-reactid=\"72\"><div class=\"profile-blocks\" data-reactid=\"73\"><header class=\"profile-header\" data-reactid=\"74\" id=\"header\"><div class=\"profile-header__container\" data-reactid=\"75\"><div class=\"profile__buckets\" data-reactid=\"76\"><div class=\"profile__bucket--1\" data-reactid=\"77\"><div data-reactid=\"78\"><div class=\"blank__bucket\" data-reactid=\"79\"><span class=\"entity-name\" data-reactid=\"80\"><a class=\"entity-name__link\" data-reactid=\"81\" href=\"https://www.niche.com/colleges/santa-clara-university/\">Santa Clara University</a></span></div></div></div><div class=\"profile__bucket--2\" data-reactid=\"82\"><div data-reactid=\"83\"><div class=\"blank__bucket\" data-reactid=\"84\"><div class=\"profile-review-stars\" data-reactid=\"85\"><div class=\"review__stars review__stars--white\" data-reactid=\"86\"><span class=\"review__stars__icon review__stars__icon--white--35\" data-reactid=\"87\"></span><span class=\"review__stars__number__reviews\" data-reactid=\"88\">1,267 reviews</span></div></div></div></div></div><div class=\"profile__bucket--3\" data-reactid=\"89\"><ol class=\"ordered__list__bucket\" data-reactid=\"90\"><li class=\"ordered__list__bucket__item\" data-reactid=\"91\"><span class=\"bare-value\" data-reactid=\"92\">Santa Clara, CA</span></li><li class=\"ordered__list__bucket__item\" data-reactid=\"93\"><span class=\"bare-value\" data-reactid=\"94\">4 Year</span></li></ol></div><div class=\"profile__bucket--4\" data-reactid=\"95\"><div data-reactid=\"96\"><div class=\"blank__bucket\" data-reactid=\"97\"><div class=\"profile-photo\" data-reactid=\"98\"><style data-reactid=\"99\" type=\"text/css\">\n",
      "                .profile-photo {\n",
      "                    background-image: url(https://d13b2ieg84qqce.cloudfront.net/098e75a6ab19572012ff48bf561b654185b3108f.jpg)\n",
      "                }\n",
      "                \n",
      "                @media only screen and (min-width: 768px) {\n",
      "                    .profile-photo {\n",
      "                        background-image: url(https://d13b2ieg84qqce.cloudfront.net/37ce712dc9ae0942fba9ffed0bf0ca51daa1c6b0.jpg)\n",
      "                    }\n",
      "                }\n",
      "            </style><div class=\"profile-photo__overlay\" data-reactid=\"100\"></div></div></div></div></div><div class=\"profile__bucket--5\" data-reactid=\"101\"><div data-reactid=\"102\"><div class=\"blank__bucket\" data-reactid=\"103\"><div class=\"profile-add-to-list\" data-reactid=\"104\"><button class=\"button button--inverted button--green button--has-icon button--icon-left button--collapse-atl button--icon-heart\" data-reactid=\"105\"><span class=\"add-to-list__text button__text\" data-reactid=\"106\">Add to List</span></button></div></div></div></div></div></div><div data-reactid=\"107\"></div></header></div><div class=\"profile-body-wrap\" data-reactid=\"108\"><div class=\"profile-body\" data-reactid=\"109\"><!-- react-text: 110 --><!-- /react-text --><div class=\"profile-blocks\" data-reactid=\"111\"><section class=\"block--expansion-back\" data-reactid=\"112\"><a data-reactid=\"113\" href=\"https://www.niche.com/colleges/santa-clara-university/\"><i class=\"icon-arrowleft-thin--expansion\" data-reactid=\"114\"></i><!-- react-text: 115 -->Back to Full Profile<!-- /react-text --></a></section><section class=\"block--majors-expansion\" data-reactid=\"116\"><div class=\"card card--full-width card--profile\" data-reactid=\"117\"><div class=\"majors-expansion\" data-reactid=\"118\"><div class=\"block__title\" data-reactid=\"119\"><h1 class=\"block__heading\" data-reactid=\"120\"><span data-reactid=\"121\">Santa Clara University Majors</span></h1></div><p class=\"majors-expansion__description\" data-reactid=\"122\"><!-- react-text: 123 -->Discover the majors and programs offered by <!-- /react-text --><!-- react-text: 124 -->Santa Clara University<!-- /react-text --><!-- react-text: 125 --> and the types of degrees awarded.<!-- /react-text --></p><div class=\"majors-expansion__buttons\" data-reactid=\"126\"><button class=\"button button--outline button--green button--xsmall button--compact\" data-reactid=\"127\">Arts</button><button class=\"button button--outline button--green button--xsmall button--compact\" data-reactid=\"128\">Business</button><button class=\"button button--outline button--green button--xsmall button--compact\" data-reactid=\"129\">Education</button><button class=\"button button--outline button--green button--xsmall button--compact\" data-reactid=\"130\">Health Professions</button><button class=\"button button--outline button--green button--xsmall button--compact\" data-reactid=\"131\">Humanities</button><button class=\"button button--outline button--green button--xsmall button--compact\" data-reactid=\"132\">Science, Technology, and Math</button></div><div data-reactid=\"133\"><div class=\"profile__buckets\" data-reactid=\"134\"><div class=\"profile__bucket--1\" data-reactid=\"135\"><div data-reactid=\"136\"><div class=\"blank__bucket\" data-reactid=\"137\"><div class=\"majors-list majors-list--arts\" data-reactid=\"138\"><div class=\"majors-list__header\" data-reactid=\"139\"><h3 class=\"majors-list__header__title\" data-reactid=\"140\">Arts</h3><div class=\"majors-list__header__key\" data-reactid=\"141\">Graduates</div></div><ul class=\"majors-list__list\" data-reactid=\"142\"><li class=\"majors-list__list__item\" data-reactid=\"143\"><div class=\"majors-list__list__item__major\" data-reactid=\"144\">Drama and Theatre Production</div><div class=\"majors-list__list__item__count\" data-reactid=\"145\">21</div></li><li class=\"majors-list__list__item\" data-reactid=\"146\"><div class=\"majors-list__list__item__major\" data-reactid=\"147\">Studio Arts</div><div class=\"majors-list__list__item__count\" data-reactid=\"148\">14</div></li><li class=\"majors-list__list__item\" data-reactid=\"149\"><div class=\"majors-list__list__item__major\" data-reactid=\"150\">Web Page and Digital Design</div><div class=\"majors-list__list__item__count\" data-reactid=\"151\">10</div></li></ul></div></div></div></div><div class=\"profile__bucket--2\" data-reactid=\"152\"><div data-reactid=\"153\"><div class=\"blank__bucket\" data-reactid=\"154\"><div class=\"majors-list majors-list--business\" data-reactid=\"155\"><div class=\"majors-list__header\" data-reactid=\"156\"><h3 class=\"majors-list__header__title\" data-reactid=\"157\">Business</h3><div class=\"majors-list__header__key\" data-reactid=\"158\">Graduates</div></div><ul class=\"majors-list__list\" data-reactid=\"159\"><li class=\"majors-list__list__item\" data-reactid=\"160\"><div class=\"majors-list__list__item__major\" data-reactid=\"161\">Accounting</div><div class=\"majors-list__list__item__count\" data-reactid=\"162\">93</div></li><li class=\"majors-list__list__item\" data-reactid=\"163\"><div class=\"majors-list__list__item__major\" data-reactid=\"164\">Business</div><div class=\"majors-list__list__item__count\" data-reactid=\"165\">1</div></li><li class=\"majors-list__list__item\" data-reactid=\"166\"><div class=\"majors-list__list__item__major\" data-reactid=\"167\">Finance</div><div class=\"majors-list__list__item__count\" data-reactid=\"168\">140</div></li><li class=\"majors-list__list__item\" data-reactid=\"169\"><div class=\"majors-list__list__item__major\" data-reactid=\"170\">Management Sciences and Information Systems</div><div class=\"majors-list__list__item__count\" data-reactid=\"171\">23</div></li><li class=\"majors-list__list__item\" data-reactid=\"172\"><div class=\"majors-list__list__item__major\" data-reactid=\"173\">Marketing</div><div class=\"majors-list__list__item__count\" data-reactid=\"174\">72</div></li><li class=\"majors-list__list__item\" data-reactid=\"175\"><div class=\"majors-list__list__item__major\" data-reactid=\"176\">Organizational Behavior Studies</div><div class=\"majors-list__list__item__count\" data-reactid=\"177\">10</div></li></ul></div></div></div></div><div class=\"profile__bucket--3\" data-reactid=\"178\"><div data-reactid=\"179\"><div class=\"blank__bucket\" data-reactid=\"180\"><div class=\"majors-list majors-list--education\" data-reactid=\"181\"><div class=\"majors-list__header\" data-reactid=\"182\"><h3 class=\"majors-list__header__title\" data-reactid=\"183\">Education</h3><div class=\"majors-list__header__key\" data-reactid=\"184\">Graduates</div></div><ul class=\"majors-list__list\" data-reactid=\"185\"><li class=\"majors-list__list__item\" data-reactid=\"186\"><div class=\"majors-list__list__item__major\" data-reactid=\"187\">Educational Administration</div><div class=\"majors-list__list__item__count\" data-reactid=\"188\">2</div></li><li class=\"majors-list__list__item\" data-reactid=\"189\"><div class=\"majors-list__list__item__major\" data-reactid=\"190\">High School Education</div><div class=\"majors-list__list__item__count\" data-reactid=\"191\">1</div></li></ul></div></div></div></div><div class=\"profile__bucket--4\" data-reactid=\"192\"><div data-reactid=\"193\"><div class=\"blank__bucket\" data-reactid=\"194\"><div class=\"majors-list majors-list--health-professions\" data-reactid=\"195\"><div class=\"majors-list__header\" data-reactid=\"196\"><h3 class=\"majors-list__header__title\" data-reactid=\"197\">Health Professions</h3><div class=\"majors-list__header__key\" data-reactid=\"198\">Graduates</div></div><ul class=\"majors-list__list\" data-reactid=\"199\"><li class=\"majors-list__list__item\" data-reactid=\"200\"><div class=\"majors-list__list__item__major\" data-reactid=\"201\">Public Health</div><div class=\"majors-list__list__item__count\" data-reactid=\"202\">49</div></li></ul></div></div></div></div><div class=\"profile__bucket--5\" data-reactid=\"203\"><div data-reactid=\"204\"><div class=\"blank__bucket\" data-reactid=\"205\"><div class=\"majors-list majors-list--humanities\" data-reactid=\"206\"><div class=\"majors-list__header\" data-reactid=\"207\"><h3 class=\"majors-list__header__title\" data-reactid=\"208\">Humanities</h3><div class=\"majors-list__header__key\" data-reactid=\"209\">Graduates</div></div><ul class=\"majors-list__list\" data-reactid=\"210\"><li class=\"majors-list__list__item\" data-reactid=\"211\"><div class=\"majors-list__list__item__major\" data-reactid=\"212\">Anthropology and Archaeology</div><div class=\"majors-list__list__item__count\" data-reactid=\"213\">4</div></li><li class=\"majors-list__list__item\" data-reactid=\"214\"><div class=\"majors-list__list__item__major\" data-reactid=\"215\">Area and Ethnic Studies</div><div class=\"majors-list__list__item__count\" data-reactid=\"216\">6</div></li><li class=\"majors-list__list__item\" data-reactid=\"217\"><div class=\"majors-list__list__item__major\" data-reactid=\"218\">Art History</div><div class=\"majors-list__list__item__count\" data-reactid=\"219\">3</div></li><li class=\"majors-list__list__item\" data-reactid=\"220\"><div class=\"majors-list__list__item__major\" data-reactid=\"221\">Communications</div><div class=\"majors-list__list__item__count\" data-reactid=\"222\">129</div></li><li class=\"majors-list__list__item\" data-reactid=\"223\"><div class=\"majors-list__list__item__major\" data-reactid=\"224\">Economics</div><div class=\"majors-list__list__item__count\" data-reactid=\"225\">107</div></li><li class=\"majors-list__list__item\" data-reactid=\"226\"><div class=\"majors-list__list__item__major\" data-reactid=\"227\">English</div><div class=\"majors-list__list__item__count\" data-reactid=\"228\">41</div></li><li class=\"majors-list__list__item\" data-reactid=\"229\"><div class=\"majors-list__list__item__major\" data-reactid=\"230\">French Language and Literature</div><div class=\"majors-list__list__item__count\" data-reactid=\"231\">8</div></li><li class=\"majors-list__list__item\" data-reactid=\"232\"><div class=\"majors-list__list__item__major\" data-reactid=\"233\">German Language and Literature</div><div class=\"majors-list__list__item__count\" data-reactid=\"234\">3</div></li><li class=\"majors-list__list__item\" data-reactid=\"235\"><div class=\"majors-list__list__item__major\" data-reactid=\"236\">History</div><div class=\"majors-list__list__item__count\" data-reactid=\"237\">17</div></li><li class=\"majors-list__list__item\" data-reactid=\"238\"><div class=\"majors-list__list__item__major\" data-reactid=\"239\">Italian Language and Literature</div><div class=\"majors-list__list__item__count\" data-reactid=\"240\">2</div></li><li class=\"majors-list__list__item\" data-reactid=\"241\"><div class=\"majors-list__list__item__major\" data-reactid=\"242\">Liberal Arts and Humanities</div><div class=\"majors-list__list__item__count\" data-reactid=\"243\">25</div></li><li class=\"majors-list__list__item\" data-reactid=\"244\"><div class=\"majors-list__list__item__major\" data-reactid=\"245\">Managerial Economics</div><div class=\"majors-list__list__item__count\" data-reactid=\"246\">15</div></li><li class=\"majors-list__list__item\" data-reactid=\"247\"><div class=\"majors-list__list__item__major\" data-reactid=\"248\">Music History and Literature</div><div class=\"majors-list__list__item__count\" data-reactid=\"249\">12</div></li><li class=\"majors-list__list__item\" data-reactid=\"250\"><div class=\"majors-list__list__item__major\" data-reactid=\"251\">Philosophy</div><div class=\"majors-list__list__item__count\" data-reactid=\"252\">17</div></li><li class=\"majors-list__list__item\" data-reactid=\"253\"><div class=\"majors-list__list__item__major\" data-reactid=\"254\">Political Science and Government</div><div class=\"majors-list__list__item__count\" data-reactid=\"255\">109</div></li><li class=\"majors-list__list__item\" data-reactid=\"256\"><div class=\"majors-list__list__item__major\" data-reactid=\"257\">Psychology</div><div class=\"majors-list__list__item__count\" data-reactid=\"258\">91</div></li><li class=\"majors-list__list__item\" data-reactid=\"259\"><div class=\"majors-list__list__item__major\" data-reactid=\"260\">Religious Studies</div><div class=\"majors-list__list__item__count\" data-reactid=\"261\">4</div></li><li class=\"majors-list__list__item\" data-reactid=\"262\"><div class=\"majors-list__list__item__major\" data-reactid=\"263\">Sociology</div><div class=\"majors-list__list__item__count\" data-reactid=\"264\">28</div></li><li class=\"majors-list__list__item\" data-reactid=\"265\"><div class=\"majors-list__list__item__major\" data-reactid=\"266\">Spanish Language and Literature</div><div class=\"majors-list__list__item__count\" data-reactid=\"267\">18</div></li><li class=\"majors-list__list__item\" data-reactid=\"268\"><div class=\"majors-list__list__item__major\" data-reactid=\"269\">Women's Studies</div><div class=\"majors-list__list__item__count\" data-reactid=\"270\">9</div></li></ul></div></div></div></div><div class=\"profile__bucket--6\" data-reactid=\"271\"><div data-reactid=\"272\"><div class=\"blank__bucket\" data-reactid=\"273\"><!-- react-empty: 274 --></div></div></div><div class=\"profile__bucket--7\" data-reactid=\"275\"><div data-reactid=\"276\"><div class=\"blank__bucket\" data-reactid=\"277\"><div class=\"majors-list majors-list--science-technology-and-math\" data-reactid=\"278\"><div class=\"majors-list__header\" data-reactid=\"279\"><h3 class=\"majors-list__header__title\" data-reactid=\"280\">Science, Technology, and Math</h3><div class=\"majors-list__header__key\" data-reactid=\"281\">Graduates</div></div><ul class=\"majors-list__list\" data-reactid=\"282\"><li class=\"majors-list__list__item\" data-reactid=\"283\"><div class=\"majors-list__list__item__major\" data-reactid=\"284\">Biochemistry and Molecular Biology</div><div class=\"majors-list__list__item__count\" data-reactid=\"285\">19</div></li><li class=\"majors-list__list__item\" data-reactid=\"286\"><div class=\"majors-list__list__item__major\" data-reactid=\"287\">Bioengineering and Biomedical Engineering</div><div class=\"majors-list__list__item__count\" data-reactid=\"288\">51</div></li><li class=\"majors-list__list__item\" data-reactid=\"289\"><div class=\"majors-list__list__item__major\" data-reactid=\"290\">Biology</div><div class=\"majors-list__list__item__count\" data-reactid=\"291\">86</div></li><li class=\"majors-list__list__item\" data-reactid=\"292\"><div class=\"majors-list__list__item__major\" data-reactid=\"293\">Chemistry</div><div class=\"majors-list__list__item__count\" data-reactid=\"294\">15</div></li><li class=\"majors-list__list__item\" data-reactid=\"295\"><div class=\"majors-list__list__item__major\" data-reactid=\"296\">Civil Engineering</div><div class=\"majors-list__list__item__count\" data-reactid=\"297\">33</div></li><li class=\"majors-list__list__item\" data-reactid=\"298\"><div class=\"majors-list__list__item__major\" data-reactid=\"299\">Computer Engineering</div><div class=\"majors-list__list__item__count\" data-reactid=\"300\">59</div></li><li class=\"majors-list__list__item\" data-reactid=\"301\"><div class=\"majors-list__list__item__major\" data-reactid=\"302\">Computer Science</div><div class=\"majors-list__list__item__count\" data-reactid=\"303\">22</div></li><li class=\"majors-list__list__item\" data-reactid=\"304\"><div class=\"majors-list__list__item__major\" data-reactid=\"305\">Electrical and Electronics Engineering</div><div class=\"majors-list__list__item__count\" data-reactid=\"306\">25</div></li><li class=\"majors-list__list__item\" data-reactid=\"307\"><div class=\"majors-list__list__item__major\" data-reactid=\"308\">Engineering</div><div class=\"majors-list__list__item__count\" data-reactid=\"309\">1</div></li><li class=\"majors-list__list__item\" data-reactid=\"310\"><div class=\"majors-list__list__item__major\" data-reactid=\"311\">Engineering Physics</div><div class=\"majors-list__list__item__count\" data-reactid=\"312\">3</div></li><li class=\"majors-list__list__item\" data-reactid=\"313\"><div class=\"majors-list__list__item__major\" data-reactid=\"314\">Environmental Sciences</div><div class=\"majors-list__list__item__count\" data-reactid=\"315\">21</div></li><li class=\"majors-list__list__item\" data-reactid=\"316\"><div class=\"majors-list__list__item__major\" data-reactid=\"317\">Environmental Studies</div><div class=\"majors-list__list__item__count\" data-reactid=\"318\">23</div></li><li class=\"majors-list__list__item\" data-reactid=\"319\"><div class=\"majors-list__list__item__major\" data-reactid=\"320\">Mathematics &amp; Statistics</div><div class=\"majors-list__list__item__count\" data-reactid=\"321\">15</div></li><li class=\"majors-list__list__item\" data-reactid=\"322\"><div class=\"majors-list__list__item__major\" data-reactid=\"323\">Mechanical Engineering</div><div class=\"majors-list__list__item__count\" data-reactid=\"324\">53</div></li><li class=\"majors-list__list__item\" data-reactid=\"325\"><div class=\"majors-list__list__item__major\" data-reactid=\"326\">Physics</div><div class=\"majors-list__list__item__count\" data-reactid=\"327\">5</div></li></ul></div></div></div></div><div class=\"profile__bucket--8\" data-reactid=\"328\"><div data-reactid=\"329\"><div class=\"blank__bucket\" data-reactid=\"330\"><!-- react-empty: 331 --></div></div></div></div></div></div></div></section><section class=\"block--one\" data-reactid=\"332\" id=\"similar-colleges\"><div class=\"block__title\" data-reactid=\"333\"></div><div class=\"profile__buckets\" data-reactid=\"334\"><div class=\"profile__bucket--1\" data-reactid=\"335\"><div data-reactid=\"336\"><div class=\"blank__bucket\" data-reactid=\"337\"><div class=\"similar-entities-wrap\" data-reactid=\"338\"><div class=\"similar-entities__title\" data-reactid=\"339\">Explore Majors at Similar Colleges</div><ul class=\"similar-entities\" data-reactid=\"340\"><li class=\"similar-entity\" data-reactid=\"341\" style=\"animation-delay:0s;\"><div class=\"chip chip--with-grade\" data-reactid=\"342\"><div class=\"niche__grade niche__grade--a\" data-reactid=\"343\">A</div><a class=\"chip__name\" data-reactid=\"344\" href=\"https://www.niche.com/colleges/loyola-marymount-university/majors\">Loyola Marymount University</a><ul class=\"chip__tagline\" data-reactid=\"345\"><li data-reactid=\"346\">4 Year</li><li data-reactid=\"347\">Los Angeles, CA</li><li data-reactid=\"348\"><div class=\"review__stars review__stars--gray\" data-reactid=\"349\"><span class=\"review__stars__icon review__stars__icon--gray--35\" data-reactid=\"350\"></span><span class=\"review__stars__number__reviews\" data-reactid=\"351\">1,493 reviews</span></div></li></ul></div></li><li class=\"similar-entity\" data-reactid=\"352\" style=\"animation-delay:0s;\"><div class=\"chip chip--with-grade\" data-reactid=\"353\"><div class=\"niche__grade niche__grade--a-minus\" data-reactid=\"354\">A-</div><a class=\"chip__name\" data-reactid=\"355\" href=\"https://www.niche.com/colleges/university-of-san-francisco/majors\">University of San Francisco</a><ul class=\"chip__tagline\" data-reactid=\"356\"><li data-reactid=\"357\">4 Year</li><li data-reactid=\"358\">San Francisco, CA</li><li data-reactid=\"359\"><div class=\"review__stars review__stars--gray\" data-reactid=\"360\"><span class=\"review__stars__icon review__stars__icon--gray--35\" data-reactid=\"361\"></span><span class=\"review__stars__number__reviews\" data-reactid=\"362\">1,949 reviews</span></div></li></ul></div></li><li class=\"similar-entity\" data-reactid=\"363\" style=\"animation-delay:0s;\"><div class=\"chip chip--with-grade\" data-reactid=\"364\"><div class=\"niche__grade niche__grade--b-minus\" data-reactid=\"365\">B-</div><a class=\"chip__name\" data-reactid=\"366\" href=\"https://www.niche.com/colleges/holy-names-university/majors\">Holy Names University</a><ul class=\"chip__tagline\" data-reactid=\"367\"><li data-reactid=\"368\">4 Year</li><li data-reactid=\"369\">Oakland, CA</li><li data-reactid=\"370\"><div class=\"review__stars review__stars--gray\" data-reactid=\"371\"><span class=\"review__stars__icon review__stars__icon--gray--35\" data-reactid=\"372\"></span><span class=\"review__stars__number__reviews\" data-reactid=\"373\">321 reviews</span></div></li></ul></div></li><li class=\"similar-entity\" data-reactid=\"374\" style=\"animation-delay:0s;\"><div class=\"chip chip--with-grade\" data-reactid=\"375\"><div class=\"niche__grade niche__grade--b\" data-reactid=\"376\">B</div><a class=\"chip__name\" data-reactid=\"377\" href=\"https://www.niche.com/colleges/saint-marys-college-of-california/majors\">Saint Mary's College of California</a><ul class=\"chip__tagline\" data-reactid=\"378\"><li data-reactid=\"379\">4 Year</li><li data-reactid=\"380\">Moraga, CA</li><li data-reactid=\"381\"><div class=\"review__stars review__stars--gray\" data-reactid=\"382\"><span class=\"review__stars__icon review__stars__icon--gray--35\" data-reactid=\"383\"></span><span class=\"review__stars__number__reviews\" data-reactid=\"384\">949 reviews</span></div></li></ul></div></li></ul><a class=\"show-more\" data-reactid=\"385\" href=\"/\"><div class=\"niche-icon-wrap\" data-reactid=\"386\"><svg class=\"niche-icon niche-icon--plus\" data-reactid=\"387\" height=\"24\" viewbox=\"0 0 24 24\" width=\"24\" xmlns=\"http://www.w3.org/2000/svg\"><path d=\"M18.5 11.9h-5.4V6.8c0-.7-.3-1.5-1.2-1.5-.9 0-1.2.8-1.2 1.5v5.1H5.5c-.7 0-1.5.3-1.5 1.1s.8 1.1 1.5 1.1h5.2v5.1c0 .7.3 1.5 1.2 1.5.9 0 1.2-.8 1.2-1.5v-5.1h5.4c.7 0 1.5-.3 1.5-1.1s-.8-1.1-1.5-1.1z\" data-reactid=\"388\" xmlns=\"http://www.w3.org/2000/svg\"></path></svg></div><span class=\"more-text\" data-reactid=\"389\">More</span></a></div></div></div></div><div class=\"profile__bucket--2\" data-reactid=\"390\"><div data-reactid=\"391\"><div class=\"blank__bucket\" data-reactid=\"392\"></div></div></div></div></section><section class=\"block--expansion-back\" data-reactid=\"393\"><a data-reactid=\"394\" href=\"https://www.niche.com/colleges/santa-clara-university/\"><i class=\"icon-arrowleft-thin--expansion\" data-reactid=\"395\"></i><!-- react-text: 396 -->Back to Full Profile<!-- /react-text --></a></section></div></div></div></div></div><footer class=\"footer\" data-reactid=\"397\"><div class=\"footer__container\" data-reactid=\"398\"><div class=\"footer-static-nav-container\" data-reactid=\"399\"><a alt=\"Niche\" class=\"footer-logo\" data-reactid=\"400\" href=\"https://www.niche.com/\">Niche</a><ul class=\"footer-static-list\" data-reactid=\"401\"><li class=\"footer-static-list__item\" data-reactid=\"402\" role=\"menuitem\"><a class=\"footer-static-list__link\" data-reactid=\"403\" href=\"https://about.niche.com\" target=\"_blank\">About Us</a></li><li class=\"footer-static-list__item\" data-reactid=\"404\" role=\"menuitem\"><a class=\"footer-static-list__link\" data-reactid=\"405\" href=\"https://about.niche.com/advertising/\" target=\"_blank\">Advertising</a></li><li class=\"footer-static-list__item\" data-reactid=\"406\" role=\"menuitem\"><a class=\"footer-static-list__link\" data-reactid=\"407\" href=\"https://articles.niche.com\" target=\"_blank\">Blog</a></li><li class=\"footer-static-list__item\" data-reactid=\"408\" role=\"menuitem\"><a class=\"footer-static-list__link\" data-reactid=\"409\" href=\"https://www.niche.com/contact/\" target=\"_blank\">Contact Niche</a></li><li class=\"footer-static-list__item\" data-reactid=\"410\" role=\"menuitem\"><a class=\"footer-static-list__link\" data-reactid=\"411\" href=\"https://www.niche.com/account/login/?reason=general\" target=\"_blank\">Login</a></li><li class=\"footer-static-list__item\" data-reactid=\"412\" role=\"menuitem\"><a class=\"footer-static-list__link\" data-reactid=\"413\" href=\"https://www.niche.com/account/register/?reason=general\" target=\"_blank\">Register</a></li><li class=\"footer-static-list__item\" data-reactid=\"414\" role=\"menuitem\"><a class=\"footer-static-list__link\" data-reactid=\"415\" href=\"https://about.niche.com/data/\" target=\"_blank\">Data</a></li><li class=\"footer-static-list__item\" data-reactid=\"416\" role=\"menuitem\"><a class=\"footer-static-list__link\" data-reactid=\"417\" href=\"https://hiring.niche.com\" target=\"_blank\">Jobs</a></li><li class=\"footer-static-list__item\" data-reactid=\"418\" role=\"menuitem\"><a class=\"footer-static-list__link\" data-reactid=\"419\" href=\"https://about.niche.com/licensing/\" target=\"_blank\">Licensing</a></li><li class=\"footer-static-list__item\" data-reactid=\"420\" role=\"menuitem\"><a class=\"footer-static-list__link\" data-reactid=\"421\" href=\"https://about.niche.com/press/\" target=\"_blank\">Press</a></li><li class=\"footer-static-list__item\" data-reactid=\"422\" role=\"menuitem\"><a class=\"footer-static-list__link\" data-reactid=\"423\" href=\"https://about.niche.com/privacy/\" target=\"_blank\">Privacy Policy</a></li><li class=\"footer-static-list__item\" data-reactid=\"424\" role=\"menuitem\"><a class=\"footer-static-list__link\" data-reactid=\"425\" href=\"https://about.niche.com/terms/\" target=\"_blank\">Terms of Use</a></li></ul><div class=\"footer-social-buttons\" data-reactid=\"426\"><a class=\"footer-social-button footer-social-button--facebook\" data-reactid=\"427\" href=\"https://www.facebook.com/nichesocial\">Facebook</a><a class=\"footer-social-button footer-social-button--twitter\" data-reactid=\"428\" href=\"https://twitter.com/nichesocial\">Twitter</a><a class=\"footer-social-button footer-social-button--g-plus\" data-reactid=\"429\" href=\"https://plus.google.com/+Nichesocial\">Google+</a></div><div class=\"footer-copyright\" data-reactid=\"430\"><!-- react-text: 431 -->©<!-- /react-text --><!-- react-text: 432 -->2017<!-- /react-text --><!-- react-text: 433 --> Niche.com Inc.<!-- /react-text --></div></div><div class=\"footer-dynamic-nav-container\" data-reactid=\"434\"><h3 class=\"footer-tagline\" data-reactid=\"435\">Discover the schools and neighborhoods that are right for you.</h3><div class=\"footer-vertical-links\" data-reactid=\"436\"><ul class=\"footer-vertical-links-list\" data-reactid=\"437\"><li class=\"footer-vertical-links-list__header\" data-reactid=\"438\"><a data-reactid=\"439\" href=\"https://www.niche.com/places-to-live/\">Places to Live</a></li><li class=\"footer-vertical-links-list__item\" data-reactid=\"440\" role=\"menuitem\"><a class=\"footer-vertical-link\" data-reactid=\"441\" href=\"https://www.niche.com/places-to-live/\">Search Places to Live</a></li><li class=\"footer-vertical-links-list__item\" data-reactid=\"442\" role=\"menuitem\"><a class=\"footer-vertical-link\" data-reactid=\"443\" href=\"https://www.niche.com/places-to-live/rankings/\">Rankings</a></li><li class=\"footer-vertical-links-list__item\" data-reactid=\"444\" role=\"menuitem\"><a class=\"footer-vertical-link\" data-reactid=\"445\" href=\"https://www.niche.com/places-to-live/survey/\">Review Your Area</a></li></ul><ul class=\"footer-vertical-links-list\" data-reactid=\"446\"><li class=\"footer-vertical-links-list__header\" data-reactid=\"447\"><a data-reactid=\"448\" href=\"https://www.niche.com/k12/\">K-12</a></li><li class=\"footer-vertical-links-list__item\" data-reactid=\"449\" role=\"menuitem\"><a class=\"footer-vertical-link\" data-reactid=\"450\" href=\"https://www.niche.com/k12/\">School Search</a></li><li class=\"footer-vertical-links-list__item\" data-reactid=\"451\" role=\"menuitem\"><a class=\"footer-vertical-link\" data-reactid=\"452\" href=\"https://www.niche.com/k12/rankings/\">School Rankings</a></li><li class=\"footer-vertical-links-list__item\" data-reactid=\"453\" role=\"menuitem\"><a class=\"footer-vertical-link\" data-reactid=\"454\" href=\"https://www.niche.com/k12/survey/\">Review Your School</a></li><li class=\"footer-vertical-links-list__item\" data-reactid=\"455\" role=\"menuitem\"><a class=\"footer-vertical-link\" data-reactid=\"456\" href=\"https://www.niche.com/k12/schools-near-you/\">Schools Near You</a></li></ul><ul class=\"footer-vertical-links-list\" data-reactid=\"457\"><li class=\"footer-vertical-links-list__header\" data-reactid=\"458\"><a data-reactid=\"459\" href=\"https://www.niche.com/colleges/\">Colleges</a></li><li class=\"footer-vertical-links-list__item\" data-reactid=\"460\" role=\"menuitem\"><a class=\"footer-vertical-link\" data-reactid=\"461\" href=\"https://www.niche.com/colleges/\">College Search</a></li><li class=\"footer-vertical-links-list__item\" data-reactid=\"462\" role=\"menuitem\"><a class=\"footer-vertical-link\" data-reactid=\"463\" href=\"https://www.niche.com/colleges/rankings/\">College Rankings</a></li><li class=\"footer-vertical-links-list__item\" data-reactid=\"464\" role=\"menuitem\"><a class=\"footer-vertical-link\" data-reactid=\"465\" href=\"https://www.niche.com/colleges/scholarships/\">Scholarships</a></li><li class=\"footer-vertical-links-list__item\" data-reactid=\"466\" role=\"menuitem\"><a class=\"footer-vertical-link\" data-reactid=\"467\" href=\"https://www.niche.com/colleges/scholarship/no-essay-scholarship/\">$2,000 No Essay Scholarship</a></li><li class=\"footer-vertical-links-list__item\" data-reactid=\"468\" role=\"menuitem\"><a class=\"footer-vertical-link\" data-reactid=\"469\" href=\"https://www.niche.com/colleges/survey/\">Review Your College</a></li><li class=\"footer-vertical-links-list__item\" data-reactid=\"470\" role=\"menuitem\"><a class=\"footer-vertical-link\" data-reactid=\"471\" href=\"https://www.niche.com/colleges/admissions-calculator/\">Admissions Calculator</a></li></ul></div><div class=\"footer-claim-cta\" data-reactid=\"472\"><div class=\"claim-your-school-cta\" data-reactid=\"473\"><!-- react-text: 474 -->Do you work for a school or college? <!-- /react-text --><a class=\"claim-your-school-cta__link\" data-reactid=\"475\" href=\"https://www.niche.com/claim-your-school/\"><!-- react-text: 476 -->Claim Your School<!-- /react-text --><span class=\"icon-arrowright-thin--expansion\" data-reactid=\"477\"></span></a></div></div><div class=\"footer-link-collection\" data-reactid=\"478\"><ul class=\"footer-link-collection-list\" data-reactid=\"479\"><li class=\"footer-link-collection-list__header\" data-reactid=\"480\">Colleges</li><li class=\"footer-link-collection-list__item\" data-reactid=\"481\" role=\"menuitem\"><a data-reactid=\"482\" href=\"https://www.niche.com/colleges/boston-college/\">Boston College</a></li><li class=\"footer-link-collection-list__item\" data-reactid=\"483\" role=\"menuitem\"><a data-reactid=\"484\" href=\"https://www.niche.com/colleges/columbia-university/\">Columbia University</a></li><li class=\"footer-link-collection-list__item\" data-reactid=\"485\" role=\"menuitem\"><a data-reactid=\"486\" href=\"https://www.niche.com/colleges/cornell-university/\">Cornell University</a></li><li class=\"footer-link-collection-list__item\" data-reactid=\"487\" role=\"menuitem\"><a data-reactid=\"488\" href=\"https://www.niche.com/colleges/drexel-university/\">Drexel University</a></li><li class=\"footer-link-collection-list__item\" data-reactid=\"489\" role=\"menuitem\"><a data-reactid=\"490\" href=\"https://www.niche.com/colleges/full-sail-university/\">Full Sail University</a></li><li class=\"footer-link-collection-list__item\" data-reactid=\"491\" role=\"menuitem\"><a data-reactid=\"492\" href=\"https://www.niche.com/colleges/harvard-university/\">Harvard University</a></li><li class=\"footer-link-collection-list__item\" data-reactid=\"493\" role=\"menuitem\"><a data-reactid=\"494\" href=\"https://www.niche.com/colleges/james-madison-university/\">James Madison</a></li><li class=\"footer-link-collection-list__item\" data-reactid=\"495\" role=\"menuitem\"><a data-reactid=\"496\" href=\"https://www.niche.com/colleges/liberty-university/\">Liberty University</a></li><li class=\"footer-link-collection-list__item\" data-reactid=\"497\" role=\"menuitem\"><a data-reactid=\"498\" href=\"https://www.niche.com/colleges/new-york-university/\">New York University</a></li><li class=\"footer-link-collection-list__item\" data-reactid=\"499\" role=\"menuitem\"><a data-reactid=\"500\" href=\"https://www.niche.com/colleges/northeastern-university/\">Northeastern University</a></li><li class=\"footer-link-collection-list__item\" data-reactid=\"501\" role=\"menuitem\"><a data-reactid=\"502\" href=\"https://www.niche.com/colleges/rutgers-university/\">Rutgers University</a></li><li class=\"footer-link-collection-list__item\" data-reactid=\"503\" role=\"menuitem\"><a data-reactid=\"504\" href=\"https://www.niche.com/colleges/st-johns-university/\">St. John's University</a></li><li class=\"footer-link-collection-list__item\" data-reactid=\"505\" role=\"menuitem\"><a data-reactid=\"506\" href=\"https://www.niche.com/colleges/stanford-university/\">Stanford University</a></li><li class=\"footer-link-collection-list__item\" data-reactid=\"507\" role=\"menuitem\"><a data-reactid=\"508\" href=\"https://www.niche.com/colleges/university-of-california----davis/\">UC Davis</a></li><li class=\"footer-link-collection-list__item\" data-reactid=\"509\" role=\"menuitem\"><a data-reactid=\"510\" href=\"https://www.niche.com/colleges/virginia-tech/\">Virginia Tech</a></li></ul><ul class=\"footer-link-collection-list\" data-reactid=\"511\"><li class=\"footer-link-collection-list__header\" data-reactid=\"512\">College Rankings</li><li class=\"footer-link-collection-list__item\" data-reactid=\"513\" role=\"menuitem\"><a data-reactid=\"514\" href=\"https://www.niche.com/colleges/search/best-colleges/\">Best Colleges</a></li><li class=\"footer-link-collection-list__item\" data-reactid=\"515\" role=\"menuitem\"><a data-reactid=\"516\" href=\"https://www.niche.com/colleges/search/best-christian-colleges/\">Best Christian Colleges</a></li><li class=\"footer-link-collection-list__item\" data-reactid=\"517\" role=\"menuitem\"><a data-reactid=\"518\" href=\"https://www.niche.com/colleges/search/best-college-campuses/\">Best College Campuses</a></li><li class=\"footer-link-collection-list__item\" data-reactid=\"519\" role=\"menuitem\"><a data-reactid=\"520\" href=\"https://www.niche.com/colleges/search/best-college-dorms/\">Best College Dorms</a></li><li class=\"footer-link-collection-list__item\" data-reactid=\"521\" role=\"menuitem\"><a data-reactid=\"522\" href=\"https://www.niche.com/colleges/search/best-college-food/\">Best College Food</a></li><li class=\"footer-link-collection-list__item\" data-reactid=\"523\" role=\"menuitem\"><a data-reactid=\"524\" href=\"https://www.niche.com/colleges/search/best-liberal-arts-colleges/\">Best Liberal Arts Colleges</a></li><li class=\"footer-link-collection-list__item\" data-reactid=\"525\" role=\"menuitem\"><a data-reactid=\"526\" href=\"https://www.niche.com/colleges/search/best-value-colleges/\">Best Value Colleges</a></li><li class=\"footer-link-collection-list__item\" data-reactid=\"527\" role=\"menuitem\"><a data-reactid=\"528\" href=\"https://www.niche.com/colleges/search/best-college-academics/\">Colleges with the Best Academics</a></li><li class=\"footer-link-collection-list__item\" data-reactid=\"529\" role=\"menuitem\"><a data-reactid=\"530\" href=\"https://www.niche.com/colleges/search/best-student-life/\">Colleges with the Best Student Life</a></li><li class=\"footer-link-collection-list__item\" data-reactid=\"531\" role=\"menuitem\"><a data-reactid=\"532\" href=\"https://www.niche.com/colleges/search/hardest-to-get-in/\">Hardest Colleges to Get Into</a></li><li class=\"footer-link-collection-list__item\" data-reactid=\"533\" role=\"menuitem\"><a data-reactid=\"534\" href=\"https://www.niche.com/colleges/search/most-diverse-colleges/\">Most Diverse Colleges</a></li><li class=\"footer-link-collection-list__item\" data-reactid=\"535\" role=\"menuitem\"><a data-reactid=\"536\" href=\"https://articles.niche.com/most-expensive-colleges/\">Most Expensive Colleges</a></li><li class=\"footer-link-collection-list__item\" data-reactid=\"537\" role=\"menuitem\"><a data-reactid=\"538\" href=\"https://www.niche.com/colleges/search/top-party-schools/\">Top Party Schools</a></li><li class=\"footer-link-collection-list__item\" data-reactid=\"539\" role=\"menuitem\"><a data-reactid=\"540\" href=\"https://www.niche.com/colleges/search/top-private-universities/\">Top Private Universities</a></li><li class=\"footer-link-collection-list__item\" data-reactid=\"541\" role=\"menuitem\"><a data-reactid=\"542\" href=\"https://www.niche.com/colleges/search/top-public-universities/\">Top Public Universities</a></li></ul><ul class=\"footer-link-collection-list\" data-reactid=\"543\"><li class=\"footer-link-collection-list__header\" data-reactid=\"544\">Colleges by State</li><li class=\"footer-link-collection-list__item\" data-reactid=\"545\" role=\"menuitem\"><a data-reactid=\"546\" href=\"https://www.niche.com/colleges/search/best-colleges/s/california/\">Colleges in California</a></li><li class=\"footer-link-collection-list__item\" data-reactid=\"547\" role=\"menuitem\"><a data-reactid=\"548\" href=\"https://www.niche.com/colleges/search/best-colleges/s/colorado/\">Colleges in Colorado</a></li><li class=\"footer-link-collection-list__item\" data-reactid=\"549\" role=\"menuitem\"><a data-reactid=\"550\" href=\"https://www.niche.com/colleges/search/best-colleges/s/florida/\">Colleges in Florida</a></li><li class=\"footer-link-collection-list__item\" data-reactid=\"551\" role=\"menuitem\"><a data-reactid=\"552\" href=\"https://www.niche.com/colleges/search/best-colleges/s/georgia/\">Colleges in Georgia</a></li><li class=\"footer-link-collection-list__item\" data-reactid=\"553\" role=\"menuitem\"><a data-reactid=\"554\" href=\"https://www.niche.com/colleges/search/best-colleges/s/illinois/\">Colleges in Illinois</a></li><li class=\"footer-link-collection-list__item\" data-reactid=\"555\" role=\"menuitem\"><a data-reactid=\"556\" href=\"https://www.niche.com/colleges/search/best-colleges/s/massachusetts/\">Colleges in Massachusetts</a></li><li class=\"footer-link-collection-list__item\" data-reactid=\"557\" role=\"menuitem\"><a data-reactid=\"558\" href=\"https://www.niche.com/colleges/search/best-colleges/s/michigan/\">Colleges in Michigan</a></li><li class=\"footer-link-collection-list__item\" data-reactid=\"559\" role=\"menuitem\"><a data-reactid=\"560\" href=\"https://www.niche.com/colleges/search/best-colleges/s/new-jersey/\">Colleges in New Jersey</a></li><li class=\"footer-link-collection-list__item\" data-reactid=\"561\" role=\"menuitem\"><a data-reactid=\"562\" href=\"https://www.niche.com/colleges/search/best-colleges/s/new-york/\">Colleges in New York</a></li><li class=\"footer-link-collection-list__item\" data-reactid=\"563\" role=\"menuitem\"><a data-reactid=\"564\" href=\"https://www.niche.com/colleges/search/best-colleges/s/north-carolina/\">Colleges in North Carolina</a></li><li class=\"footer-link-collection-list__item\" data-reactid=\"565\" role=\"menuitem\"><a data-reactid=\"566\" href=\"https://www.niche.com/colleges/search/best-colleges/s/ohio/\">Colleges in Ohio</a></li><li class=\"footer-link-collection-list__item\" data-reactid=\"567\" role=\"menuitem\"><a data-reactid=\"568\" href=\"https://www.niche.com/colleges/search/best-colleges/s/pennsylvania/\">Colleges in Pennsylvania</a></li><li class=\"footer-link-collection-list__item\" data-reactid=\"569\" role=\"menuitem\"><a data-reactid=\"570\" href=\"https://www.niche.com/colleges/search/best-colleges/s/texas/\">Colleges in Texas</a></li><li class=\"footer-link-collection-list__item\" data-reactid=\"571\" role=\"menuitem\"><a data-reactid=\"572\" href=\"https://www.niche.com/colleges/search/best-colleges/s/virginia/\">Colleges in Virginia</a></li><li class=\"footer-link-collection-list__item\" data-reactid=\"573\" role=\"menuitem\"><a data-reactid=\"574\" href=\"https://www.niche.com/colleges/search/best-colleges/s/washington/\">Colleges in Washington</a></li></ul></div></div></div></footer></section><div data-reactid=\"575\"><span data-reactid=\"576\"></span><!-- react-empty: 577 --></div></div></div><script>window.App={\"context\":{\"dispatcher\":{\"stores\":{\"AppStore\":{\"isMobile\":false,\"pageUISettings\":{\"hasFooter\":true},\"isPageNotFound\":false,\"isSecondaryMenuHidden\":false,\"metadataTags\":{\"canonical\":\"https:\\u002F\\u002Fwww.niche.com\\u002Fcolleges\\u002Fsanta-clara-university\\u002Fmajors\\u002F\",\"description\":\"List of Santa Clara University majors by size and degree. See the most popular majors at Santa Clara University.\",\"keywords\":\"Santa Clara University majors, list of Santa Clara University majors, college majors\",\"og:description\":\"List of Santa Clara University majors by size and degree.\",\"og:image\":\"https:\\u002F\\u002Fd33a4decm84gsn.cloudfront.net\\u002Fsocial-share\\u002Fniche-colleges-1910px.png\",\"og:image:height\":\"1000\",\"og:image:width\":\"1910\",\"og:title\":\"Santa Clara University Majors\",\"og:type\":\"website\",\"og:url\":\"https:\\u002F\\u002Fwww.niche.com\\u002Fcolleges\\u002Fsanta-clara-university\\u002Fmajors\\u002F\",\"title\":\"Santa Clara University Majors - Niche\"},\"metadataJSON\":{\"all\":{\"@context\":\"http:\\u002F\\u002Fschema.org\",\"@type\":\"WebSite\",\"name\":\"Niche\",\"sameAs\":[\"https:\\u002F\\u002Fwww.facebook.com\\u002Fnichesocial\",\"https:\\u002F\\u002Fwww.twitter.com\\u002FnicheSocial\",\"https:\\u002F\\u002Fplus.google.com\\u002F+Nichesocial\",\"https:\\u002F\\u002Fwww.linkedin.com\\u002Fcompany\\u002Fnichesocial\"],\"url\":\"https:\\u002F\\u002Fwww.niche.com\\u002F\"}},\"isTempBackpackHidden\":false,\"pageModifier\":\"\",\"pageType\":\"profile\",\"pageUrlQuery\":{},\"vertical\":\"colleges\",\"clientAddress\":\"108.67.0.82\",\"clientLocation\":{\"range\":[1816330240,1816331263],\"country\":\"US\",\"region\":\"CA\",\"city\":\"Newark\",\"ll\":[37.5147,-122.0423],\"metro\":807,\"zip\":94560},\"dataLayerDetails\":{\"entityGuid\":\"3b71452f-b6c1-4c12-86a2-1f4e160fdfb3\",\"entityType\":\"College\",\"variation\":4,\"profileLevel\":\"majors\",\"hashedEmails\":null,\"experiments\":{}},\"siteSearchQuery\":\"\",\"isTouchDevice\":false,\"query\":{},\"viewBag\":{}},\"AdStore\":{\"adTargetingParams\":[{\"label\":\"ip\",\"value\":\"108.67.0.82\"},{\"label\":\"entity\",\"value\":\"3b71452f-b6c1-4c12-86a2-1f4e160fdfb3\"}]},\"ProfileStore\":{\"areReviewsFetched\":false,\"categoriesByVertical\":{\"colleges\":[\"Academics\",\"Campus\",\"Food\",\"Health & Safety\",\"Housing\",\"Overall Experience\",\"Party Scene\",\"Student Life\",\"Value\"],\"k12\":[\"Academics\",\"Clubs & Activities\",\"College Readiness\",\"Overall Experience\",\"Student Life\",\"Teachers\"],\"places-to-live\":[\"Community\",\"Crime & Safety\",\"Overall Experience\",\"Real Estate\",\"Things To Do\"]},\"content\":{\"entity_guid\":\"3b71452f-b6c1-4c12-86a2-1f4e160fdfb3\",\"variation\":4,\"isClaimed\":false,\"page\":\"majors\",\"blocks\":[{\"template\":\"BlockTemplateProfileHeader\",\"config\":{\"anchor\":[\"header\"]},\"buckets\":{\"1\":{\"template\":\"Blank\",\"config\":{},\"contents\":[{\"template\":\"EntityName\",\"config\":{},\"type\":\"Name\",\"name\":\"Santa Clara University\",\"isClaimed\":false}]},\"2\":{\"template\":\"Blank\",\"config\":{},\"contents\":[{\"template\":\"ReviewStars\",\"config\":{\"color\":[\"White\"],\"event_action\":[\"Click\"],\"event_category\":[\"Engagement\"],\"event_label\":[\"Header_Review-Stars\"]},\"type\":\"ReviewStars\",\"count\":1267,\"stars\":3.665351223362273}]},\"3\":{\"template\":\"OrderedList\",\"config\":{},\"contents\":[{\"template\":\"BareValue\",\"config\":{},\"type\":\"Fact\",\"label\":\"Location Association\",\"tooltip\":\"\",\"value\":\"Santa Clara, CA\"},{\"template\":\"BareValue\",\"config\":{},\"type\":\"Fact\",\"label\":\"Characteristic\",\"tooltip\":\"\",\"value\":\"4 Year\"}]},\"4\":{\"template\":\"Blank\",\"config\":{},\"contents\":[{\"template\":\"Photo\",\"config\":{},\"type\":\"Photo\",\"photos\":{\"default\":{\"licenseName\":\"UNLICENSED\",\"crops\":{\"DesktopHeader\":\"https:\\u002F\\u002Fd13b2ieg84qqce.cloudfront.net\\u002F37ce712dc9ae0942fba9ffed0bf0ca51daa1c6b0.jpg\",\"MobileHeader\":\"https:\\u002F\\u002Fd13b2ieg84qqce.cloudfront.net\\u002F098e75a6ab19572012ff48bf561b654185b3108f.jpg\",\"Thumbnail\":\"https:\\u002F\\u002Fd13b2ieg84qqce.cloudfront.net\\u002Ff614b2d92bded94a44be367c452c16c3b7c56f82\"}},\"mapbox_header\":{\"author\":\"© Mapbox\",\"sourceUrl\":\"https:\\u002F\\u002Fwww.mapbox.com\\u002Fabout\\u002Fmaps\\u002F\",\"licenseName\":\"© OpenStreetMap\",\"licenseUrl\":\"http:\\u002F\\u002Fwww.openstreetmap.org\\u002Fcopyright\",\"crops\":{\"DesktopHeader\":\"https:\\u002F\\u002Fapi.mapbox.com\\u002Fstyles\\u002Fv1\\u002Fniche-admin\\u002Fcitg1y6rj00312inu917d7y1o\\u002Fstatic\\u002F-121.938189,37.352706,13\\u002F900x471@2x?access_token=pk.eyJ1IjoibmljaGUtYWRtaW4iLCJhIjoiY2lyODF1YnR6MDB3bGcybTNhdDQxY3pkZCJ9.NQ0kRtM21uVhwbzjSAridg\",\"MobileHeader\":\"https:\\u002F\\u002Fapi.mapbox.com\\u002Fstyles\\u002Fv1\\u002Fniche-admin\\u002Fcitg1y6rj00312inu917d7y1o\\u002Fstatic\\u002F-121.938189,37.352706,13\\u002F400x250@2x?access_token=pk.eyJ1IjoibmljaGUtYWRtaW4iLCJhIjoiY2lyODF1YnR6MDB3bGcybTNhdDQxY3pkZCJ9.NQ0kRtM21uVhwbzjSAridg\"}}}}]},\"5\":{\"template\":\"Blank\",\"config\":{},\"contents\":[{\"template\":\"AddtoList\",\"config\":{\"event_action\":[\"Add_to_List\"],\"event_category\":[\"Revenue\"],\"event_label\":[\"${ENTITY_GUID}_Header\"],\"hierarchy\":[\"Two\"],\"inquiry_origin\":[\"${PROFILE-PAGE}_header_organic\"]},\"type\":\"CTA\"}]}}},{\"template\":\"BlockTemplateExpansionPageBackLink\",\"config\":{},\"buckets\":{}},{\"template\":\"BlockTemplateMajorsExpansion\",\"config\":{\"title\":[\"${ENTITY_NAME} Majors\"]},\"buckets\":{\"1\":{\"template\":\"Blank\",\"config\":{},\"contents\":[{\"template\":\"MajorList\",\"config\":{},\"type\":\"List\",\"guid\":\"4f554ee2-1af5-4075-8e21-de4ce0623416\",\"name\":\"Arts\",\"valueLabel\":\"Graduate\",\"tooltip\":\"Based on the number of bachelors degrees, associate degrees, and certificates awarded.\",\"primaryEntityGuid\":\"3b71452f-b6c1-4c12-86a2-1f4e160fdfb3\",\"alphabetized\":true,\"total\":3,\"entities\":[{\"entityGuid\":\"69461991-27d3-49d3-8ccb-c845cbfda8ff\",\"name\":\"Drama and Theatre Production\",\"value\":\"21.00\"},{\"entityGuid\":\"bd37536d-eef8-4f63-bdbf-7852ba71cf32\",\"name\":\"Studio Arts\",\"value\":\"14.00\"},{\"entityGuid\":\"fbde61eb-6754-490d-86a4-0fc0ade6a58f\",\"name\":\"Web Page and Digital Design\",\"value\":\"10.00\"}]}]},\"2\":{\"template\":\"Blank\",\"config\":{},\"contents\":[{\"template\":\"MajorList\",\"config\":{},\"type\":\"List\",\"guid\":\"7786979e-d3de-41d6-9aa1-0a8f638dd5d1\",\"name\":\"Business\",\"valueLabel\":\"Graduate\",\"tooltip\":\"Based on the number of bachelors degrees, associate degrees, and certificates awarded.\",\"primaryEntityGuid\":\"3b71452f-b6c1-4c12-86a2-1f4e160fdfb3\",\"alphabetized\":true,\"total\":6,\"entities\":[{\"entityGuid\":\"916999fb-f354-475a-a628-f1b18df5c3da\",\"name\":\"Accounting\",\"value\":\"93.00\"},{\"entityGuid\":\"87cf1a1f-658b-4628-a7e8-4cb03d113228\",\"name\":\"Business\",\"value\":\"1.00\"},{\"entityGuid\":\"1fcf52df-7b56-4855-966d-a2e90f834651\",\"name\":\"Finance\",\"value\":\"140.00\"},{\"entityGuid\":\"f5f07c8c-831f-4c7f-9b38-bac3537328e2\",\"name\":\"Management Sciences and Information Systems\",\"value\":\"23.00\"},{\"entityGuid\":\"5b6311c2-64a8-4234-b3ed-0c8c4a41cce3\",\"name\":\"Marketing\",\"value\":\"72.00\"},{\"entityGuid\":\"c74c6685-e4ff-4319-a63b-5b0095f66e58\",\"name\":\"Organizational Behavior Studies\",\"value\":\"10.00\"}]}]},\"3\":{\"template\":\"Blank\",\"config\":{},\"contents\":[{\"template\":\"MajorList\",\"config\":{},\"type\":\"List\",\"guid\":\"1fba477e-9b4b-4850-bd48-c1139e202eb2\",\"name\":\"Education\",\"valueLabel\":\"Graduate\",\"tooltip\":\"Based on the number of bachelors degrees, associate degrees, and certificates awarded.\",\"primaryEntityGuid\":\"3b71452f-b6c1-4c12-86a2-1f4e160fdfb3\",\"alphabetized\":true,\"total\":2,\"entities\":[{\"entityGuid\":\"ab3c6758-dac1-420d-9577-3a2996c15857\",\"name\":\"Educational Administration\",\"value\":\"2.00\"},{\"entityGuid\":\"2755f099-9a2b-4791-ae9d-290c690b7bb2\",\"name\":\"High School Education\",\"value\":\"1.00\"}]}]},\"4\":{\"template\":\"Blank\",\"config\":{},\"contents\":[{\"template\":\"MajorList\",\"config\":{},\"type\":\"List\",\"guid\":\"96490339-14f5-4e4f-9b59-def6ff41912b\",\"name\":\"Health Professions\",\"valueLabel\":\"Graduate\",\"tooltip\":\"Based on the number of bachelors degrees, associate degrees, and certificates awarded.\",\"primaryEntityGuid\":\"3b71452f-b6c1-4c12-86a2-1f4e160fdfb3\",\"alphabetized\":true,\"total\":1,\"entities\":[{\"entityGuid\":\"3c626ab7-9aad-4bb3-829f-9bd440f7200f\",\"name\":\"Public Health\",\"value\":\"49.00\"}]}]},\"5\":{\"template\":\"Blank\",\"config\":{},\"contents\":[{\"template\":\"MajorList\",\"config\":{},\"type\":\"List\",\"guid\":\"558f061d-d685-41d2-99e3-6bca09384438\",\"name\":\"Humanities\",\"valueLabel\":\"Graduate\",\"tooltip\":\"Based on the number of bachelors degrees, associate degrees, and certificates awarded.\",\"primaryEntityGuid\":\"3b71452f-b6c1-4c12-86a2-1f4e160fdfb3\",\"alphabetized\":true,\"total\":20,\"entities\":[{\"entityGuid\":\"ef1effd8-e925-453e-a7ce-b716fd6b39be\",\"name\":\"Anthropology and Archaeology\",\"value\":\"4.00\"},{\"entityGuid\":\"257b46f0-5eb4-4743-be2f-93d971bf19a0\",\"name\":\"Area and Ethnic Studies\",\"value\":\"6.00\"},{\"entityGuid\":\"e8b44d95-d7b2-4988-866d-66eb6ffab79a\",\"name\":\"Art History\",\"value\":\"3.00\"},{\"entityGuid\":\"da3311f2-3ea3-4a15-bd20-772f4a63de28\",\"name\":\"Communications\",\"value\":\"129.00\"},{\"entityGuid\":\"485d8101-c262-4610-b34a-0c61f2a3a29b\",\"name\":\"Economics\",\"value\":\"107.00\"},{\"entityGuid\":\"82e363f1-309b-4b69-91d1-4197504f06f9\",\"name\":\"English\",\"value\":\"41.00\"},{\"entityGuid\":\"31645c34-3f98-4c1c-b0ca-e7916dc80a20\",\"name\":\"French Language and Literature\",\"value\":\"8.00\"},{\"entityGuid\":\"ccab52a5-6468-4cd3-b648-de23eba4a4a4\",\"name\":\"German Language and Literature\",\"value\":\"3.00\"},{\"entityGuid\":\"5cffac6a-efe3-47a3-86bb-4388e403f060\",\"name\":\"History\",\"value\":\"17.00\"},{\"entityGuid\":\"0dcd12c3-61a8-49f6-a179-f013d046a4ac\",\"name\":\"Italian Language and Literature\",\"value\":\"2.00\"},{\"entityGuid\":\"b43176d8-c47f-4359-abef-a3710eaade56\",\"name\":\"Liberal Arts and Humanities\",\"value\":\"25.00\"},{\"entityGuid\":\"25f89f16-1089-43da-82a5-cb7f5535fa25\",\"name\":\"Managerial Economics\",\"value\":\"15.00\"},{\"entityGuid\":\"3c5a8d96-9874-4961-8c3d-ab549fe73ea0\",\"name\":\"Music History and Literature\",\"value\":\"12.00\"},{\"entityGuid\":\"ccb54ea3-3a73-4a14-a49f-1dc6f29b378f\",\"name\":\"Philosophy\",\"value\":\"17.00\"},{\"entityGuid\":\"71651198-113b-4b10-8ccd-4b0309e72529\",\"name\":\"Political Science and Government\",\"value\":\"109.00\"},{\"entityGuid\":\"3d3bcf25-dab8-470e-b545-c75223088b5b\",\"name\":\"Psychology\",\"value\":\"91.00\"},{\"entityGuid\":\"54823891-ccc0-48b8-93f9-eee6863a3724\",\"name\":\"Religious Studies\",\"value\":\"4.00\"},{\"entityGuid\":\"8cbd0064-5587-45da-bf89-1c81f999623f\",\"name\":\"Sociology\",\"value\":\"28.00\"},{\"entityGuid\":\"4b6b8bb1-1e69-478a-8d65-a00dc9db4ef2\",\"name\":\"Spanish Language and Literature\",\"value\":\"18.00\"},{\"entityGuid\":\"66b793c5-6de3-4b70-95c7-5db74d886c11\",\"name\":\"Women's Studies\",\"value\":\"9.00\"}]}]},\"6\":{\"template\":\"Blank\",\"config\":{},\"contents\":[{\"template\":\"MajorList\",\"config\":{},\"type\":\"List\",\"guid\":\"8f1228aa-9955-4151-bd72-a9bcc178f422\",\"name\":\"Protective Services\",\"valueLabel\":\"Graduate\",\"tooltip\":\"Based on the number of bachelors degrees, associate degrees, and certificates awarded.\",\"primaryEntityGuid\":\"3b71452f-b6c1-4c12-86a2-1f4e160fdfb3\",\"alphabetized\":true,\"total\":0,\"entities\":[]}]},\"7\":{\"template\":\"Blank\",\"config\":{},\"contents\":[{\"template\":\"MajorList\",\"config\":{},\"type\":\"List\",\"guid\":\"e6ce9443-5641-430e-a4cf-a8066a51b611\",\"name\":\"Science, Technology, and Math\",\"valueLabel\":\"Graduate\",\"tooltip\":\"Based on the number of bachelors degrees, associate degrees, and certificates awarded.\",\"primaryEntityGuid\":\"3b71452f-b6c1-4c12-86a2-1f4e160fdfb3\",\"alphabetized\":true,\"total\":15,\"entities\":[{\"entityGuid\":\"e1221e5e-690a-474e-aac7-461fb6387a6b\",\"name\":\"Biochemistry and Molecular Biology\",\"value\":\"19.00\"},{\"entityGuid\":\"a7a972b7-9cf0-4ee5-8309-ebc50a157bf3\",\"name\":\"Bioengineering and Biomedical Engineering\",\"value\":\"51.00\"},{\"entityGuid\":\"e1a13a70-142e-4463-a1e6-861fb0f769e4\",\"name\":\"Biology\",\"value\":\"86.00\"},{\"entityGuid\":\"657348f8-5952-4567-baf9-11aa651bacd5\",\"name\":\"Chemistry\",\"value\":\"15.00\"},{\"entityGuid\":\"c79b06b6-579d-4c31-bde6-76de7ceb94e3\",\"name\":\"Civil Engineering\",\"value\":\"33.00\"},{\"entityGuid\":\"c80562de-7c9d-4b71-a87a-a17c06df5d8b\",\"name\":\"Computer Engineering\",\"value\":\"59.00\"},{\"entityGuid\":\"f0c7cd66-5fe2-470a-ad2d-7ef5ad8db08b\",\"name\":\"Computer Science\",\"value\":\"22.00\"},{\"entityGuid\":\"d4405b51-7804-4b32-8deb-f5ae561ab86d\",\"name\":\"Electrical and Electronics Engineering\",\"value\":\"25.00\"},{\"entityGuid\":\"6e995ad5-47bd-4f44-9609-8e68898bc52b\",\"name\":\"Engineering\",\"value\":\"1.00\"},{\"entityGuid\":\"875d8b20-b4db-485d-898e-3ca41212885b\",\"name\":\"Engineering Physics\",\"value\":\"3.00\"},{\"entityGuid\":\"daaaea68-4d26-46bd-81cd-0629b53634cc\",\"name\":\"Environmental Sciences\",\"value\":\"21.00\"},{\"entityGuid\":\"bf5a8ef4-32a1-4a65-8f9a-95ac73402b0a\",\"name\":\"Environmental Studies\",\"value\":\"23.00\"},{\"entityGuid\":\"0743a6aa-12c4-4fca-b19c-32dcce63bed0\",\"name\":\"Mathematics & Statistics\",\"value\":\"15.00\"},{\"entityGuid\":\"3b43927e-cff8-4cfb-bfbb-9b1a473ba208\",\"name\":\"Mechanical Engineering\",\"value\":\"53.00\"},{\"entityGuid\":\"6de4d10c-22ab-45c8-940a-be3c61bb8595\",\"name\":\"Physics\",\"value\":\"5.00\"}]}]},\"8\":{\"template\":\"Blank\",\"config\":{},\"contents\":[{\"template\":\"MajorList\",\"config\":{},\"type\":\"List\",\"guid\":\"fdfa3eac-62e4-4dd5-83e8-2e90ae1d5e85\",\"name\":\"Trades and Personal Services\",\"valueLabel\":\"Graduate\",\"tooltip\":\"Based on the number of bachelors degrees, associate degrees, and certificates awarded.\",\"primaryEntityGuid\":\"3b71452f-b6c1-4c12-86a2-1f4e160fdfb3\",\"alphabetized\":true,\"total\":0,\"entities\":[]}]}}},{\"template\":\"BlockTemplateOne\",\"config\":{\"anchor\":[\"similar-colleges\"]},\"buckets\":{\"1\":{\"template\":\"Blank\",\"config\":{},\"contents\":[{\"template\":\"SimilarEntities\",\"config\":{\"event_action\":[\"Sim_Entity_Click\"],\"event_category\":[\"Engagement\"],\"event_label\":[\"Similar_Colleges_Majors\"],\"title\":[\"Explore Majors at Similar Colleges\"]},\"type\":\"List\",\"guid\":\"8ef6394e-90ac-498e-b767-1f49bcd15b27\",\"name\":\"Colleges like ${ENTITY_NAME}\",\"valueLabel\":\"Similarity\",\"primaryEntityGuid\":\"3b71452f-b6c1-4c12-86a2-1f4e160fdfb3\",\"alphabetized\":false,\"page\":1,\"limit\":8,\"total\":10,\"entities\":[{\"entityGuid\":\"8c7f93e4-7738-43ab-81e2-876c5fef63ce\",\"name\":\"Loyola Marymount University\",\"value\":\"60.00\",\"reviewAvg\":{\"count\":1493,\"average\":3.6718017414601474},\"facts\":[\"4 Year\",\"Los Angeles, CA\"],\"grade\":{\"guid\":\"0764a6be-7ac7-44d9-b3d5-310fa319f416\",\"label\":\"Overall Niche Grade\",\"description\":\"Based on millions of statistics and student reviews.\",\"value\":4,\"rankingGuid\":\"fac7a671-4dc5-4070-a476-c59bdc010e15\"},\"entityName\":\"Loyola Marymount University\",\"entityType\":\"College\",\"entityTypeCode\":\"u\",\"tagline\":\"4 Year &middot; Los Angeles, CA\",\"urlFragment\":\"loyola-marymount-university\",\"parentGuid\":\"\",\"stateGuid\":\"b56d7c2d-d07e-4aa2-bcf6-925ecb0890f6\",\"metroGuid\":\"ff9270f0-7630-4e8b-bd45-e748c8e3a2b6\",\"geoParentGuid\":\"17b8a4a7-f8e8-4c00-8f57-1c87023a02a5\"},{\"entityGuid\":\"72a41b41-aadc-45ea-bf78-592becb4f1b7\",\"name\":\"University of San Francisco\",\"value\":\"74.00\",\"reviewAvg\":{\"count\":1949,\"average\":3.5628527449974348},\"facts\":[\"4 Year\",\"San Francisco, CA\"],\"grade\":{\"guid\":\"0764a6be-7ac7-44d9-b3d5-310fa319f416\",\"label\":\"Overall Niche Grade\",\"description\":\"Based on millions of statistics and student reviews.\",\"value\":3.66,\"rankingGuid\":\"fac7a671-4dc5-4070-a476-c59bdc010e15\"},\"entityName\":\"University of San Francisco\",\"entityType\":\"College\",\"entityTypeCode\":\"u\",\"tagline\":\"4 Year &middot; San Francisco, CA\",\"urlFragment\":\"university-of-san-francisco\",\"parentGuid\":\"\",\"stateGuid\":\"b56d7c2d-d07e-4aa2-bcf6-925ecb0890f6\",\"metroGuid\":\"d8ccf170-f072-4180-977c-a91f914ebcfe\",\"geoParentGuid\":\"7fd0342c-7bda-410e-9b78-296b4fa3472b\"},{\"entityGuid\":\"b810a94b-d017-48a6-9abb-febf0e84abb1\",\"name\":\"Holy Names University\",\"value\":\"76.00\",\"reviewAvg\":{\"count\":321,\"average\":3.411214953271028},\"facts\":[\"4 Year\",\"Oakland, CA\"],\"grade\":{\"guid\":\"0764a6be-7ac7-44d9-b3d5-310fa319f416\",\"label\":\"Overall Niche Grade\",\"description\":\"Based on millions of statistics and student reviews.\",\"value\":2.66,\"rankingGuid\":\"fac7a671-4dc5-4070-a476-c59bdc010e15\"},\"entityName\":\"Holy Names University\",\"entityType\":\"College\",\"entityTypeCode\":\"u\",\"tagline\":\"4 Year &middot; Oakland, CA\",\"urlFragment\":\"holy-names-university\",\"parentGuid\":\"\",\"stateGuid\":\"b56d7c2d-d07e-4aa2-bcf6-925ecb0890f6\",\"metroGuid\":\"d8ccf170-f072-4180-977c-a91f914ebcfe\",\"geoParentGuid\":\"23bac116-2d1e-45f1-83be-a674bca9da64\"},{\"entityGuid\":\"69ce0fbb-58c4-45e8-b17b-0480a915771a\",\"name\":\"Saint Mary's College of California\",\"value\":\"79.00\",\"reviewAvg\":{\"count\":949,\"average\":3.5079030558482613},\"facts\":[\"4 Year\",\"Moraga, CA\"],\"grade\":{\"guid\":\"0764a6be-7ac7-44d9-b3d5-310fa319f416\",\"label\":\"Overall Niche Grade\",\"description\":\"Based on millions of statistics and student reviews.\",\"value\":3,\"rankingGuid\":\"fac7a671-4dc5-4070-a476-c59bdc010e15\"},\"entityName\":\"Saint Mary's College of California\",\"entityType\":\"College\",\"entityTypeCode\":\"u\",\"tagline\":\"4 Year &middot; Moraga, CA\",\"urlFragment\":\"saint-marys-college-of-california\",\"parentGuid\":\"\",\"stateGuid\":\"b56d7c2d-d07e-4aa2-bcf6-925ecb0890f6\",\"metroGuid\":\"d8ccf170-f072-4180-977c-a91f914ebcfe\",\"geoParentGuid\":\"5352c423-bafe-4a84-a5f2-d30a97406aed\"},{\"entityGuid\":\"dae7241a-4d00-4c50-b1a5-f33baf3a6c3b\",\"name\":\"Claremont McKenna College\",\"value\":\"93.00\",\"reviewAvg\":{\"count\":403,\"average\":3.8784119106699753},\"facts\":[\"4 Year\",\"Claremont, CA\"],\"grade\":{\"guid\":\"0764a6be-7ac7-44d9-b3d5-310fa319f416\",\"label\":\"Overall Niche Grade\",\"description\":\"Based on millions of statistics and student reviews.\",\"value\":4.33,\"rankingGuid\":\"fac7a671-4dc5-4070-a476-c59bdc010e15\"},\"entityName\":\"Claremont McKenna College\",\"entityType\":\"College\",\"entityTypeCode\":\"u\",\"tagline\":\"4 Year &middot; Claremont, CA\",\"urlFragment\":\"claremont-mckenna-college\",\"parentGuid\":\"\",\"stateGuid\":\"b56d7c2d-d07e-4aa2-bcf6-925ecb0890f6\",\"metroGuid\":\"ff9270f0-7630-4e8b-bd45-e748c8e3a2b6\",\"geoParentGuid\":\"fc0052e4-4aa2-46da-946b-470ed8533b2e\"},{\"entityGuid\":\"ebbdf58a-bcfe-4e9b-85fa-ed13071c0e77\",\"name\":\"University of California - Merced\",\"value\":\"93.00\",\"reviewAvg\":{\"count\":1807,\"average\":3.5063641394576646},\"facts\":[\"4 Year\",\"Merced, CA\"],\"grade\":{\"guid\":\"0764a6be-7ac7-44d9-b3d5-310fa319f416\",\"label\":\"Overall Niche Grade\",\"description\":\"Based on millions of statistics and student reviews.\",\"value\":3.33,\"rankingGuid\":\"fac7a671-4dc5-4070-a476-c59bdc010e15\"},\"entityName\":\"University of California - Merced\",\"entityType\":\"College\",\"entityTypeCode\":\"u\",\"tagline\":\"4 Year &middot; Merced, CA\",\"urlFragment\":\"university-of-california---merced\",\"parentGuid\":\"\",\"stateGuid\":\"b56d7c2d-d07e-4aa2-bcf6-925ecb0890f6\",\"metroGuid\":\"\",\"geoParentGuid\":\"403f68ab-40cd-49fa-b169-52556c4f3e43\"},{\"entityGuid\":\"62f0c452-9441-4c5b-b83d-cd8de1a7527c\",\"name\":\"University of San Diego\",\"value\":\"110.00\",\"reviewAvg\":{\"count\":1717,\"average\":3.627256843331392},\"facts\":[\"4 Year\",\"San Diego, CA\"],\"grade\":{\"guid\":\"0764a6be-7ac7-44d9-b3d5-310fa319f416\",\"label\":\"Overall Niche Grade\",\"description\":\"Based on millions of statistics and student reviews.\",\"value\":4,\"rankingGuid\":\"fac7a671-4dc5-4070-a476-c59bdc010e15\"},\"entityName\":\"University of San Diego\",\"entityType\":\"College\",\"entityTypeCode\":\"u\",\"tagline\":\"4 Year &middot; San Diego, CA\",\"urlFragment\":\"university-of-san-diego\",\"parentGuid\":\"\",\"stateGuid\":\"b56d7c2d-d07e-4aa2-bcf6-925ecb0890f6\",\"metroGuid\":\"71a6a53b-23da-4ec2-b564-ffc13563d4ad\",\"geoParentGuid\":\"6d9c7b93-552e-4f06-962e-afc9831390d4\"},{\"entityGuid\":\"1d981220-ae87-42dd-8601-807c5884cfaf\",\"name\":\"Pepperdine University\",\"value\":\"118.00\",\"reviewAvg\":{\"count\":1142,\"average\":3.6663747810858145},\"facts\":[\"4 Year\",\"Malibu, CA\"],\"grade\":{\"guid\":\"0764a6be-7ac7-44d9-b3d5-310fa319f416\",\"label\":\"Overall Niche Grade\",\"description\":\"Based on millions of statistics and student reviews.\",\"value\":4,\"rankingGuid\":\"fac7a671-4dc5-4070-a476-c59bdc010e15\"},\"entityName\":\"Pepperdine University\",\"entityType\":\"College\",\"entityTypeCode\":\"u\",\"tagline\":\"4 Year &middot; Malibu, CA\",\"urlFragment\":\"pepperdine-university\",\"parentGuid\":\"\",\"stateGuid\":\"b56d7c2d-d07e-4aa2-bcf6-925ecb0890f6\",\"metroGuid\":\"ff9270f0-7630-4e8b-bd45-e748c8e3a2b6\",\"geoParentGuid\":\"df466652-d37b-479f-8165-3bdb14877229\"}]}]}}},{\"template\":\"BlockTemplateExpansionPageBackLink\",\"config\":{},\"buckets\":{}}],\"entity_data\":{\"name\":\"Santa Clara University\",\"guid\":\"3b71452f-b6c1-4c12-86a2-1f4e160fdfb3\",\"entity_type\":\"College\",\"is_published\":\"true\",\"is_displayable\":\"true\",\"url_fragment\":\"santa-clara-university\",\"tagline_fact_1\":\"4 Year\",\"tagline_fact_2\":\"Santa Clara, CA\",\"tagline_fact_3\":\"\",\"parent_guid\":\"\",\"state_guid\":\"b56d7c2d-d07e-4aa2-bcf6-925ecb0890f6\",\"metro_guid\":\"a0419be4-b601-4518-ac1b-bc06f54cecba\",\"geo_parent_guid\":\"44b1c9d0-0773-4aa7-aaeb-c04dda704fc1\"},\"children\":{}},\"currentExpansionPage\":{},\"entityType\":\"u\",\"expansionPages\":[],\"fragment\":\"santa-clara-university\",\"isScrolledPastSentinel\":false,\"reviewChartData\":null,\"reviewFilters\":[],\"reviews\":[],\"vertical\":\"colleges\"}}},\"options\":{\"optimizePromiseCallback\":false},\"plugins\":{}},\"plugins\":{}};</script><script src=\"https://cdnjs.cloudflare.com/ajax/libs/react/15.3.2/react-with-addons.min.js\"></script><script src=\"https://cdnjs.cloudflare.com/ajax/libs/react/15.3.2/react-dom.min.js\"></script><script src=\"https://cdnjs.cloudflare.com/ajax/libs/rxjs/4.1.0/rx.lite.min.js\"></script><script src=\"https://cdnjs.cloudflare.com/ajax/libs/moment.js/2.15.1/moment.min.js\"></script><script src=\"https://cdnjs.cloudflare.com/ajax/libs/moment-timezone/0.5.5/moment-timezone-with-data.min.js\"></script><script src=\"https://d33a4decm84gsn.cloudfront.net/production/90/bundle.vendor.17796975ae8e7f008194.js\"></script><script defer=\"\" src=\"https://d33a4decm84gsn.cloudfront.net/production/90/bundle.client.17796975ae8e7f008194.js\"></script></body></html>\n"
     ]
    }
   ],
   "source": [
    "import requests\n",
    "from bs4 import BeautifulSoup as BS\n",
    "\n",
    "url = 'https://www.niche.com/colleges/santa-clara-university/majors/'\n",
    "agent = {\"User-Agent\":'Mozilla/5.0 (Windows NT 6.3; WOW64) AppleWebKit/537.36 (KHTML, like Gecko) Chrome/59.0.3071.115 Safari/537.36'}\n",
    "page = requests.get(url, headers=agent)\n",
    "soup =  (BS(page.content, 'lxml'))\n",
    "print(soup)"
   ]
  },
  {
   "cell_type": "code",
   "execution_count": 58,
   "metadata": {
    "collapsed": true
   },
   "outputs": [],
   "source": [
    "from bs4 import BeautifulSoup\n",
    "import requests as rq\n",
    "import pandas as pd\n",
    "import numpy as np\n",
    "import re"
   ]
  },
  {
   "cell_type": "code",
   "execution_count": 59,
   "metadata": {},
   "outputs": [
    {
     "name": "stdout",
     "output_type": "stream",
     "text": [
      "https://www.niche.com/colleges/santa-clara-university/majors/ https://www.niche.com/colleges/santa-clara-university/majors/\n"
     ]
    }
   ],
   "source": [
    "url = input(\"https://www.niche.com/colleges/santa-clara-university/majors/\")\n",
    "r  = rq.get(url)\n",
    "\n",
    "data = r.text\n",
    "\n",
    "soup = BeautifulSoup(data,\"html5lib\")"
   ]
  },
  {
   "cell_type": "code",
   "execution_count": 60,
   "metadata": {
    "collapsed": true
   },
   "outputs": [],
   "source": [
    "Majors = []\n",
    "GraduateCount = []"
   ]
  },
  {
   "cell_type": "code",
   "execution_count": 75,
   "metadata": {},
   "outputs": [
    {
     "name": "stdout",
     "output_type": "stream",
     "text": [
      "['Drama and Theatre Production', 'Studio Arts', 'Web Page and Digital Design', 'Accounting', 'Business', 'Finance', 'Management Sciences and Information Systems', 'Marketing', 'Organizational Behavior Studies', 'Educational Administration', 'High School Education', 'Public Health', 'Anthropology and Archaeology', 'Area and Ethnic Studies', 'Art History', 'Communications', 'Economics', 'English', 'French Language and Literature', 'German Language and Literature', 'History', 'Italian Language and Literature', 'Liberal Arts and Humanities', 'Managerial Economics', 'Music History and Literature', 'Philosophy', 'Political Science and Government', 'Psychology', 'Religious Studies', 'Sociology', 'Spanish Language and Literature', \"Women's Studies\", 'Biochemistry and Molecular Biology', 'Bioengineering and Biomedical Engineering', 'Biology', 'Chemistry', 'Civil Engineering', 'Computer Engineering', 'Computer Science', 'Electrical and Electronics Engineering', 'Engineering', 'Engineering Physics', 'Environmental Sciences', 'Environmental Studies', 'Mathematics & Statistics', 'Mechanical Engineering', 'Physics']\n",
      "['21', '14', '10', '93', '1', '140', '23', '72', '10', '2', '1', '49', '4', '6', '3', '129', '107', '41', '8', '3', '17', '2', '25', '15', '12', '17', '109', '91', '4', '28', '18', '9', '19', '51', '86', '15', '33', '59', '22', '25', '1', '3', '21', '23', '15', '53', '5']\n"
     ]
    }
   ],
   "source": [
    "Majors = []\n",
    "GraduateCount = []\n",
    "for x in soup.find_all('div',{'class':['majors-list__list__item__major']}):\n",
    "    text = x.text\n",
    "    Majors.append(text)\n",
    "print(Majors)\n",
    "for y in soup.find_all('div',{'class':'majors-list__list__item__count'}):\n",
    "    #for z in y.find_all('span'):\n",
    "        text = y.text\n",
    "        GraduateCount.append(text)\n",
    "print(GraduateCount)\n",
    "  \n",
    "#    for x in soup.find_all('div',{'class':['majors-list__list__item__major', 'majors-list__list__item__count']})"
   ]
  },
  {
   "cell_type": "code",
   "execution_count": 76,
   "metadata": {
    "collapsed": true
   },
   "outputs": [],
   "source": [
    "SCUMajors={'majors-list__list__item__major':Majors}\n",
    "SCUMajors = pd.DataFrame.from_dict(SCUMajors)"
   ]
  },
  {
   "cell_type": "code",
   "execution_count": 52,
   "metadata": {
    "collapsed": true
   },
   "outputs": [],
   "source": []
  },
  {
   "cell_type": "code",
   "execution_count": 77,
   "metadata": {
    "collapsed": true
   },
   "outputs": [],
   "source": [
    "SCUMajorCount ={'Majors':Majors,'Count':GraduateCount}\n",
    "SCUMajorCount = pd.DataFrame.from_dict(SCUMajorCount)"
   ]
  },
  {
   "cell_type": "code",
   "execution_count": 78,
   "metadata": {
    "collapsed": true
   },
   "outputs": [],
   "source": [
    "SCUMajorCount.to_csv('SCUMajorCount.csv',index = False)"
   ]
  },
  {
   "cell_type": "markdown",
   "metadata": {
    "collapsed": true
   },
   "source": [
    "#                                        Intermediate Version – 0\n",
    " In this Intermediate Version, I worked on Niche.com (https://www.niche.com/colleges/santa-clara-university/majors/ ) to scrape information about different majors offered by Santa Clara University and the count of graduates in each.\n",
    "I had two more intermediate versions but they had lots of errors. So, by learning from my mistakes and learning from beautiful soup documentations I tried executing these queries. Tried many queries but was not able to parse html data into the table. Later, in this notebook finally found the right solution. In the final notebook, I will be working on all the three data sets, presenting the correct queries.\n"
   ]
  }
 ],
 "metadata": {
  "kernelspec": {
   "display_name": "Python 3",
   "language": "python",
   "name": "python3"
  },
  "language_info": {
   "codemirror_mode": {
    "name": "ipython",
    "version": 3
   },
   "file_extension": ".py",
   "mimetype": "text/x-python",
   "name": "python",
   "nbconvert_exporter": "python",
   "pygments_lexer": "ipython3",
   "version": "3.6.1"
  }
 },
 "nbformat": 4,
 "nbformat_minor": 2
}
