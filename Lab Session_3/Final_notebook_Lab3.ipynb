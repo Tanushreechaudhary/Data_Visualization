{
 "cells": [
  {
   "cell_type": "code",
   "execution_count": 1,
   "metadata": {},
   "outputs": [
    {
     "name": "stderr",
     "output_type": "stream",
     "text": [
      "C:\\Users\\Tanushree\\Anaconda3\\lib\\site-packages\\fuzzywuzzy\\fuzz.py:35: UserWarning: Using slow pure-python SequenceMatcher. Install python-Levenshtein to remove this warning\n",
      "  warnings.warn('Using slow pure-python SequenceMatcher. Install python-Levenshtein to remove this warning')\n"
     ]
    }
   ],
   "source": [
    "import pandas as pd\n",
    "import pandas_datareader as pdr\n",
    "\n",
    "import requests as rq\n",
    "import datetime as dt\n",
    "\n",
    "import fuzzywuzzy\n",
    "from fuzzywuzzy import fuzz\n",
    "from fuzzywuzzy import process"
   ]
  },
  {
   "cell_type": "code",
   "execution_count": 2,
   "metadata": {},
   "outputs": [
    {
     "data": {
      "text/html": [
       "<div>\n",
       "<style>\n",
       "    .dataframe thead tr:only-child th {\n",
       "        text-align: right;\n",
       "    }\n",
       "\n",
       "    .dataframe thead th {\n",
       "        text-align: left;\n",
       "    }\n",
       "\n",
       "    .dataframe tbody tr th {\n",
       "        vertical-align: top;\n",
       "    }\n",
       "</style>\n",
       "<table border=\"1\" class=\"dataframe\">\n",
       "  <thead>\n",
       "    <tr style=\"text-align: right;\">\n",
       "      <th></th>\n",
       "      <th>Entity</th>\n",
       "      <th>alternative name</th>\n",
       "      <th>story</th>\n",
       "      <th>YEAR</th>\n",
       "      <th>records lost</th>\n",
       "      <th>ORGANISATION</th>\n",
       "      <th>METHOD OF LEAK</th>\n",
       "      <th>interesting story</th>\n",
       "      <th>NO OF RECORDS STOLEN</th>\n",
       "      <th>DATA SENSITIVITY</th>\n",
       "      <th>UNUSED</th>\n",
       "      <th>UNUSED.1</th>\n",
       "      <th>Exclude</th>\n",
       "      <th>Unnamed: 13</th>\n",
       "      <th>1st source link</th>\n",
       "      <th>2nd source link</th>\n",
       "      <th>3rd source</th>\n",
       "      <th>source name</th>\n",
       "    </tr>\n",
       "  </thead>\n",
       "  <tbody>\n",
       "    <tr>\n",
       "      <th>0</th>\n",
       "      <td>NaN</td>\n",
       "      <td>NaN</td>\n",
       "      <td>Elaboration if there's an interesting story or...</td>\n",
       "      <td>years are encoded (0=2004, 8 = 2012, 9 = 2013,...</td>\n",
       "      <td>(use 3m, 4m, 5m or 10m to approximate unknown ...</td>\n",
       "      <td>NaN</td>\n",
       "      <td>NaN</td>\n",
       "      <td>NaN</td>\n",
       "      <td>(use 3m, 4m, 5m or 10m to approximate unknown ...</td>\n",
       "      <td>1. Just email address/Online information 20 SS...</td>\n",
       "      <td>NaN</td>\n",
       "      <td>NaN</td>\n",
       "      <td>Show this item in the viz?</td>\n",
       "      <td>NaN</td>\n",
       "      <td>NaN</td>\n",
       "      <td>NaN</td>\n",
       "      <td>NaN</td>\n",
       "      <td>NaN</td>\n",
       "    </tr>\n",
       "    <tr>\n",
       "      <th>1</th>\n",
       "      <td>AOL</td>\n",
       "      <td>American Online</td>\n",
       "      <td>A former America Online software engineer stol...</td>\n",
       "      <td>0</td>\n",
       "      <td>92000000</td>\n",
       "      <td>web</td>\n",
       "      <td>inside job</td>\n",
       "      <td>NaN</td>\n",
       "      <td>92000000</td>\n",
       "      <td>1</td>\n",
       "      <td>NaN</td>\n",
       "      <td>NaN</td>\n",
       "      <td>NaN</td>\n",
       "      <td>NaN</td>\n",
       "      <td>http://money.cnn.com/2004/06/23/technology/aol...</td>\n",
       "      <td>http://www.msnbc.msn.com/id/8985989/#.UFcN8RgUwaA</td>\n",
       "      <td>NaN</td>\n",
       "      <td>CNN</td>\n",
       "    </tr>\n",
       "    <tr>\n",
       "      <th>2</th>\n",
       "      <td>Automatic Data Processing</td>\n",
       "      <td>Business outsourcing, payrolls, benefits</td>\n",
       "      <td>NaN</td>\n",
       "      <td>1</td>\n",
       "      <td>125000</td>\n",
       "      <td>financial</td>\n",
       "      <td>poor security</td>\n",
       "      <td>NaN</td>\n",
       "      <td>130000</td>\n",
       "      <td>20</td>\n",
       "      <td>NaN</td>\n",
       "      <td>NaN</td>\n",
       "      <td>NaN</td>\n",
       "      <td>NaN</td>\n",
       "      <td>http://abcnews.go.com/Technology/story?id=2160...</td>\n",
       "      <td>NaN</td>\n",
       "      <td>NaN</td>\n",
       "      <td>ABC</td>\n",
       "    </tr>\n",
       "    <tr>\n",
       "      <th>3</th>\n",
       "      <td>Ameritrade Inc.</td>\n",
       "      <td>Computer backup tape containing personal infor...</td>\n",
       "      <td>online broker</td>\n",
       "      <td>1</td>\n",
       "      <td>200000</td>\n",
       "      <td>financial</td>\n",
       "      <td>lost / stolen device</td>\n",
       "      <td>NaN</td>\n",
       "      <td>200000</td>\n",
       "      <td>20</td>\n",
       "      <td>NaN</td>\n",
       "      <td>NaN</td>\n",
       "      <td>NaN</td>\n",
       "      <td>NaN</td>\n",
       "      <td>http://www.nbcnews.com/id/7561268/</td>\n",
       "      <td>NaN</td>\n",
       "      <td>NaN</td>\n",
       "      <td>NaN</td>\n",
       "    </tr>\n",
       "    <tr>\n",
       "      <th>4</th>\n",
       "      <td>Citigroup</td>\n",
       "      <td>NaN</td>\n",
       "      <td>Blame the messenger! A box of computer tapes c...</td>\n",
       "      <td>1</td>\n",
       "      <td>3900000</td>\n",
       "      <td>financial</td>\n",
       "      <td>lost / stolen device</td>\n",
       "      <td>y</td>\n",
       "      <td>3900000</td>\n",
       "      <td>300</td>\n",
       "      <td>NaN</td>\n",
       "      <td>NaN</td>\n",
       "      <td>NaN</td>\n",
       "      <td>NaN</td>\n",
       "      <td>http://www.nytimes.com/2005/06/07/business/07d...</td>\n",
       "      <td>NaN</td>\n",
       "      <td>NaN</td>\n",
       "      <td>NY Times</td>\n",
       "    </tr>\n",
       "  </tbody>\n",
       "</table>\n",
       "</div>"
      ],
      "text/plain": [
       "                      Entity  \\\n",
       "0                        NaN   \n",
       "1                        AOL   \n",
       "2  Automatic Data Processing   \n",
       "3            Ameritrade Inc.   \n",
       "4                  Citigroup   \n",
       "\n",
       "                                    alternative name  \\\n",
       "0                                                NaN   \n",
       "1                                    American Online   \n",
       "2           Business outsourcing, payrolls, benefits   \n",
       "3  Computer backup tape containing personal infor...   \n",
       "4                                                NaN   \n",
       "\n",
       "                                               story  \\\n",
       "0  Elaboration if there's an interesting story or...   \n",
       "1  A former America Online software engineer stol...   \n",
       "2                                                NaN   \n",
       "3                                      online broker   \n",
       "4  Blame the messenger! A box of computer tapes c...   \n",
       "\n",
       "                                                YEAR  \\\n",
       "0  years are encoded (0=2004, 8 = 2012, 9 = 2013,...   \n",
       "1                                                  0   \n",
       "2                                                  1   \n",
       "3                                                  1   \n",
       "4                                                  1   \n",
       "\n",
       "                                        records lost ORGANISATION  \\\n",
       "0  (use 3m, 4m, 5m or 10m to approximate unknown ...          NaN   \n",
       "1                                           92000000          web   \n",
       "2                                             125000    financial   \n",
       "3                                             200000    financial   \n",
       "4                                            3900000    financial   \n",
       "\n",
       "         METHOD OF LEAK interesting story  \\\n",
       "0                   NaN               NaN   \n",
       "1            inside job               NaN   \n",
       "2         poor security               NaN   \n",
       "3  lost / stolen device               NaN   \n",
       "4  lost / stolen device                 y   \n",
       "\n",
       "                                NO OF RECORDS STOLEN  \\\n",
       "0  (use 3m, 4m, 5m or 10m to approximate unknown ...   \n",
       "1                                           92000000   \n",
       "2                                             130000   \n",
       "3                                             200000   \n",
       "4                                            3900000   \n",
       "\n",
       "                                    DATA SENSITIVITY  UNUSED  UNUSED.1  \\\n",
       "0  1. Just email address/Online information 20 SS...     NaN       NaN   \n",
       "1                                                  1     NaN       NaN   \n",
       "2                                                 20     NaN       NaN   \n",
       "3                                                 20     NaN       NaN   \n",
       "4                                                300     NaN       NaN   \n",
       "\n",
       "                      Exclude Unnamed: 13  \\\n",
       "0  Show this item in the viz?         NaN   \n",
       "1                         NaN         NaN   \n",
       "2                         NaN         NaN   \n",
       "3                         NaN         NaN   \n",
       "4                         NaN         NaN   \n",
       "\n",
       "                                     1st source link  \\\n",
       "0                                                NaN   \n",
       "1  http://money.cnn.com/2004/06/23/technology/aol...   \n",
       "2  http://abcnews.go.com/Technology/story?id=2160...   \n",
       "3                 http://www.nbcnews.com/id/7561268/   \n",
       "4  http://www.nytimes.com/2005/06/07/business/07d...   \n",
       "\n",
       "                                     2nd source link 3rd source source name  \n",
       "0                                                NaN        NaN         NaN  \n",
       "1  http://www.msnbc.msn.com/id/8985989/#.UFcN8RgUwaA        NaN         CNN  \n",
       "2                                                NaN        NaN         ABC  \n",
       "3                                                NaN        NaN         NaN  \n",
       "4                                                NaN        NaN    NY Times  "
      ]
     },
     "execution_count": 2,
     "metadata": {},
     "output_type": "execute_result"
    }
   ],
   "source": [
    "#Reading the Cleaned excel file from previous Lab Session.\n",
    "Lab3 = pd.read_excel(r\"C:\\Users\\Tanushree\\Desktop\\UNIVERSITY\\Quarter 4\\Dashboard\\Lab1_Session\\Session1.xlsx\",sheetname = 0)\n",
    "\n",
    "#Getting the first 5 rows\n",
    "Lab3.head()"
   ]
  },
  {
   "cell_type": "code",
   "execution_count": 3,
   "metadata": {
    "collapsed": true
   },
   "outputs": [],
   "source": [
    "#Drop the first row\n",
    "Lab3 = Lab3.drop(Lab3.index[[0]])"
   ]
  },
  {
   "cell_type": "code",
   "execution_count": 4,
   "metadata": {
    "collapsed": true
   },
   "outputs": [],
   "source": [
    "#Drop unnecessary columns from the sheet\n",
    "drop1 = ['story','alternative name','NO OF RECORDS STOLEN','interesting story','UNUSED' , 'UNUSED.1', 'Exclude', 'Unnamed: 13', '1st source link', '2nd source link', '3rd source', 'source name']\n",
    "Lab3 = Lab3[[col for col in Lab3.columns if col not in drop1]]"
   ]
  },
  {
   "cell_type": "code",
   "execution_count": 5,
   "metadata": {
    "collapsed": true
   },
   "outputs": [],
   "source": [
    "#Rename columns of sheet1 having inconsistencies in name\n",
    "Lab3 = Lab3.rename(columns = {'Entity':'ENTITY','records lost':'RECORDS LOST' })"
   ]
  },
  {
   "cell_type": "code",
   "execution_count": 8,
   "metadata": {},
   "outputs": [],
   "source": [
    "Lab3.loc[Lab3['DATA SENSITIVITY'] == 1, 'DATA SENSITIVITY'] = 'Just email address/Online information'\n",
    "Lab3.loc[Lab3['DATA SENSITIVITY'] == 300, 'DATA SENSITIVITY'] = 'Credit card information'\n",
    "Lab3.loc[Lab3['DATA SENSITIVITY'] == 4000, 'DATA SENSITIVITY'] = 'Email password/Health records'\n",
    "Lab3.loc[Lab3['DATA SENSITIVITY'] == 50000, 'DATA SENSITIVITY'] = 'Full bank account details'\n",
    "\n",
    "#Encountered some string values in column with numeric values\n",
    "Lab3.loc[Lab3['DATA SENSITIVITY'] == '20', 'DATA SENSITIVITY'] = 'SSN/Personal details'\n",
    "Lab3.loc[Lab3['DATA SENSITIVITY'] == '300', 'DATA SENSITIVITY'] = 'Credit card information'"
   ]
  },
  {
   "cell_type": "code",
   "execution_count": 9,
   "metadata": {
    "collapsed": true
   },
   "outputs": [],
   "source": [
    "#Approximating the UNKNOWN FIGURES\n",
    "\n",
    "Lab3.loc[Lab3['ENTITY'] == 'OVH', 'RECORDS LOST'] = 5000000\n",
    "Lab3.loc[Lab3['ENTITY'] == 'UbiSoft', 'RECORDS LOST'] = 10000000"
   ]
  },
  {
   "cell_type": "code",
   "execution_count": 10,
   "metadata": {
    "collapsed": true
   },
   "outputs": [],
   "source": [
    "#Change values for column YEAR\n",
    "\n",
    "Lab3['YEAR'] = Lab3['YEAR'].replace([0,1,2,3,4,5,6,7,8,9,10,11,12,13,14],\n",
    "[2004,2005,2006,2007,2008,2009,2010,2011,2012,2013,2014,2015,2016,2017,2017])"
   ]
  },
  {
   "cell_type": "code",
   "execution_count": 11,
   "metadata": {
    "collapsed": true
   },
   "outputs": [],
   "source": [
    "#Replacing {} brackets with the entity name and using the fuzz.partial_ratio to get the entities that match the yahoo Finance atleast 80%\n",
    "\n",
    "def get_symbol(entity_name):\n",
    "    url = \"http://d.yimg.com/autoc.finance.yahoo.com/autoc?query={}&region=1&lang=en\".format(entity_name)\n",
    "\n",
    "    result = rq.get(url).json()\n",
    "\n",
    "    for x in result['ResultSet']['Result']:\n",
    "        if fuzz.partial_ratio(entity_name, x['name']) >= 80:\n",
    "            if x['exchDisp'] == 'NYSE' or x['exchDisp'] == 'NASDAQ':\n",
    "                return x['symbol'] "
   ]
  },
  {
   "cell_type": "code",
   "execution_count": 12,
   "metadata": {
    "collapsed": true
   },
   "outputs": [],
   "source": [
    "#Creating a container list to get close dates\n",
    "ticker = []"
   ]
  },
  {
   "cell_type": "code",
   "execution_count": 13,
   "metadata": {
    "collapsed": true
   },
   "outputs": [],
   "source": [
    "Entity_name = Lab3['ENTITY'].tolist()\n",
    "for y in Entity_name:\n",
    "    ticker.append(get_symbol(y))    #Once we get the symbol, append it to the empty ticker[]."
   ]
  },
  {
   "cell_type": "code",
   "execution_count": 14,
   "metadata": {},
   "outputs": [
    {
     "name": "stdout",
     "output_type": "stream",
     "text": [
      "No Ticker\n",
      "No Ticker\n",
      "No Ticker\n",
      "No Ticker\n",
      "No Ticker\n",
      "No Ticker\n"
     ]
    }
   ],
   "source": [
    "Stock_price = pd.DataFrame(columns = ['Symbol','Date', 'Close'])\n",
    "for x in ticker:\n",
    "    if x is not None:\n",
    "        try:\n",
    "            result = pdr.get_data_yahoo(x)\n",
    "            result = result.reset_index()  \n",
    "            result['Symbol'] = x\n",
    "            result = result[['Symbol', 'Date', 'Close']]\n",
    "            Stock_price = Stock_price.append(result)\n",
    "        except:\n",
    "            print('No Ticker')\n",
    "    else:\n",
    "        pass"
   ]
  },
  {
   "cell_type": "code",
   "execution_count": 15,
   "metadata": {
    "collapsed": true
   },
   "outputs": [],
   "source": [
    "Lab3.insert(loc = 6,column = 'Ticker_Symbol', value = ticker)"
   ]
  },
  {
   "cell_type": "code",
   "execution_count": 17,
   "metadata": {},
   "outputs": [],
   "source": [
    "Lab3_Updated = pd.merge(Lab3, Stock_price, left_on='Ticker_Symbol',right_on='Symbol', how='right')"
   ]
  },
  {
   "cell_type": "code",
   "execution_count": 18,
   "metadata": {
    "collapsed": true
   },
   "outputs": [],
   "source": [
    "Lab3_Updated.to_csv('Lab3_CleanedSheet.csv',index=False)"
   ]
  },
  {
   "cell_type": "code",
   "execution_count": null,
   "metadata": {
    "collapsed": true
   },
   "outputs": [],
   "source": []
  }
 ],
 "metadata": {
  "kernelspec": {
   "display_name": "Python 3",
   "language": "python",
   "name": "python3"
  },
  "language_info": {
   "codemirror_mode": {
    "name": "ipython",
    "version": 3
   },
   "file_extension": ".py",
   "mimetype": "text/x-python",
   "name": "python",
   "nbconvert_exporter": "python",
   "pygments_lexer": "ipython3",
   "version": "3.6.1"
  }
 },
 "nbformat": 4,
 "nbformat_minor": 2
}
