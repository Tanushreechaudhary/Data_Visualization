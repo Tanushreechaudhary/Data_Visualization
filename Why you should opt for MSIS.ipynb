{
 "cells": [
  {
   "cell_type": "markdown",
   "metadata": {},
   "source": [
    "# Final Notebook - Lab Session4\n",
    "\n",
    "This notebook has all the final queries for scraping the three data sets.\n",
    "My three data sources are: \n",
    "1. https://www.niche.com/colleges/santa-clara-university/majors/\n",
    "2. https://www.indeed.com/salaries/Business-Analyst-Salaries\n",
    "3. https://www.glassdoor.com/Salary/Santa-Clara-University-Salaries-E29607.htm\n",
    "\n",
    "\n",
    "I started with writing python code in Beautiful Soup for extracting web pages, searched various online sources. I have submitted 2 intermediate versions, where I have tried some codes. First of all, I was not able to fetch data from the web page as an html code because some websites have denied access to web scraping. After that, I faked the user agent and It worked. The second bottle neck was parsing the data in a tabular form. I used the tabulate library in one data set and it worked for that one but not for the other data sets. So, later figured out how to iterate over the web page and finding tags and attributes respective to the website.\n",
    "In this final version, I have removed all the errors I was getting in the intermediate versions and I have cleaned the data as well, removing extra data and correcting errors."
   ]
  },
  {
   "cell_type": "markdown",
   "metadata": {},
   "source": [
    "Importing tabulate for getting tabular data in python. Beautiful Soup for scraping data from web pages."
   ]
  },
  {
   "cell_type": "code",
   "execution_count": 1,
   "metadata": {
    "collapsed": true
   },
   "outputs": [],
   "source": [
    "import pandas as pd\n",
    "import requests\n",
    "from bs4 import BeautifulSoup as BS\n",
    "from tabulate import tabulate"
   ]
  },
  {
   "cell_type": "markdown",
   "metadata": {},
   "source": [
    "# DataSet-1:\n",
    "Data source used: https://www.glassdoor.com/Salary/Santa-Clara-University-Salaries-E29607.htm\n",
    "\n",
    "Scraping the Salaries of different job positions at Santa Clara University."
   ]
  },
  {
   "cell_type": "code",
   "execution_count": 2,
   "metadata": {
    "collapsed": true
   },
   "outputs": [],
   "source": [
    "#Some of the websites denied the permission to scrape data, so used user agent to access it.\n",
    "\n",
    "url = 'https://www.glassdoor.com/Salary/Santa-Clara-University-Salaries-E29607.htm'\n",
    "agent = {\"User-Agent\":'Mozilla/5.0 (Windows NT 6.3; WOW64) AppleWebKit/537.36 (KHTML, like Gecko) Chrome/59.0.3071.115 Safari/537.36'}\n",
    "page = requests.get(url, headers=agent)\n",
    "soup =  (BS(page.content, 'lxml'))"
   ]
  },
  {
   "cell_type": "code",
   "execution_count": 3,
   "metadata": {
    "collapsed": true
   },
   "outputs": [],
   "source": [
    "#Finding all the 'table' tags\n",
    "\n",
    "table = soup.find_all('table')[0]"
   ]
  },
  {
   "cell_type": "code",
   "execution_count": 4,
   "metadata": {
    "collapsed": true
   },
   "outputs": [],
   "source": [
    "df = pd.read_html(str(table))"
   ]
  },
  {
   "cell_type": "code",
   "execution_count": 6,
   "metadata": {},
   "outputs": [
    {
     "name": "stdout",
     "output_type": "stream",
     "text": [
      "Index(['Job Title', 'Santa Clara University Salary'], dtype='object')\n"
     ]
    }
   ],
   "source": [
    "#Printing the columns\n",
    "\n",
    "print(df[0].columns)"
   ]
  },
  {
   "cell_type": "code",
   "execution_count": 7,
   "metadata": {},
   "outputs": [
    {
     "name": "stdout",
     "output_type": "stream",
     "text": [
      "+----+-------------------------------------------+---------------------------------+\n",
      "|    | Job Title                                 | Santa Clara University Salary   |\n",
      "|----+-------------------------------------------+---------------------------------|\n",
      "|  0 | Student Assistant - Hourly                | $11.26/hr                       |\n",
      "|  1 | Research Assistant - Hourly               | $13.50/hr                       |\n",
      "|  2 | Assistant Professor                       | $96,764                         |\n",
      "|  3 | Teaching Assistant - Hourly               | $13.08/hr                       |\n",
      "|  4 | Director                                  | $83,720                         |\n",
      "|  5 | Adjunct Lecturer                          | $51,000                         |\n",
      "|  6 | Media Services - Hourly                   | $11.07/hr                       |\n",
      "|  7 | Lecturer                                  | $51,364                         |\n",
      "|  8 | Undergraduate Research Assistant - Hourly | $13.45/hr                       |\n",
      "|  9 | Intern - Hourly                           | $9.95/hr                        |\n",
      "| 10 | Student Research Assistant - Hourly       | $11.56/hr                       |\n",
      "| 11 | Administrative Assistant - Hourly         | $17.14/hr                       |\n",
      "| 12 | Library Assistant - Hourly                | $11.83/hr                       |\n",
      "| 13 | Assistant Director                        | $69,843                         |\n",
      "| 14 | Graduate Student - Hourly                 | $14.67/hr                       |\n",
      "+----+-------------------------------------------+---------------------------------+\n"
     ]
    }
   ],
   "source": [
    "#This prints the two columns in tabular form\n",
    "\n",
    "print( tabulate(df[0], headers='keys', tablefmt='psql') )"
   ]
  },
  {
   "cell_type": "code",
   "execution_count": 14,
   "metadata": {
    "collapsed": true
   },
   "outputs": [],
   "source": [
    "GlassDoor = pd.DataFrame(df[0])"
   ]
  },
  {
   "cell_type": "code",
   "execution_count": 12,
   "metadata": {
    "collapsed": true
   },
   "outputs": [],
   "source": [
    "#Extracting data in a .csv file\n",
    "GlassDoor.to_csv(\"GlassDoor_Clean.csv\")"
   ]
  },
  {
   "cell_type": "code",
   "execution_count": null,
   "metadata": {
    "collapsed": true
   },
   "outputs": [],
   "source": []
  },
  {
   "cell_type": "markdown",
   "metadata": {
    "collapsed": true
   },
   "source": [
    "\n",
    "\n"
   ]
  },
  {
   "cell_type": "markdown",
   "metadata": {},
   "source": [
    "# DataSet -2\n",
    "Data source used: https://www.indeed.com/salaries/Business-Analyst-Salaries\n",
    "\n",
    "Extracting the salaries of Business Analysts working at different organizations."
   ]
  },
  {
   "cell_type": "code",
   "execution_count": 11,
   "metadata": {
    "collapsed": true
   },
   "outputs": [],
   "source": [
    "#Importing numpy for handling lists and re for searching salary\n",
    "\n",
    "import pandas as pd\n",
    "import requests as req\n",
    "from bs4 import BeautifulSoup as BS\n",
    "import numpy as np\n",
    "import re"
   ]
  },
  {
   "cell_type": "code",
   "execution_count": 12,
   "metadata": {},
   "outputs": [
    {
     "name": "stdout",
     "output_type": "stream",
     "text": [
      "https://www.indeed.com/salaries/Business-Analyst-Salarieshttps://www.indeed.com/salaries/Business-Analyst-Salaries\n"
     ]
    }
   ],
   "source": [
    "url = input(\"https://www.indeed.com/salaries/Business-Analyst-Salaries\")\n",
    "rq1  = req.get(url)\n",
    "\n",
    "DataFrame1 = rq1.text\n",
    "\n",
    "soup = BS(DataFrame1,\"html5lib\")"
   ]
  },
  {
   "cell_type": "code",
   "execution_count": 13,
   "metadata": {
    "collapsed": true
   },
   "outputs": [],
   "source": [
    "#Taking 2 blank list to store data in.\n",
    "\n",
    "Companies = []\n",
    "Salaries = []"
   ]
  },
  {
   "cell_type": "code",
   "execution_count": 14,
   "metadata": {
    "collapsed": true
   },
   "outputs": [],
   "source": [
    "#Finding tags and appending text to Companies\n",
    "for a in soup.find_all('a',{'data-tn-element':'title-cmp-salaries'}):\n",
    "    text = a.text\n",
    "    Companies.append(text)"
   ]
  },
  {
   "cell_type": "code",
   "execution_count": 15,
   "metadata": {
    "collapsed": true
   },
   "outputs": [],
   "source": [
    "#Iterating over the web page and finding tags and appending to Salaries\n",
    "\n",
    "for b in soup.find_all('div',{'class':'cmp-sal-summary'}):\n",
    "    for abc in b.find_all('span'):\n",
    "        text = abc.text\n",
    "        if re.search(r'(.*)\\$(.*)', text):\n",
    "            Salaries.append(text)\n",
    "        else:\n",
    "            pass"
   ]
  },
  {
   "cell_type": "code",
   "execution_count": 16,
   "metadata": {},
   "outputs": [
    {
     "data": {
      "text/plain": [
       "'$75,569'"
      ]
     },
     "execution_count": 16,
     "metadata": {},
     "output_type": "execute_result"
    }
   ],
   "source": [
    "#Removing extra information\n",
    "Salaries.pop(0)"
   ]
  },
  {
   "cell_type": "code",
   "execution_count": 17,
   "metadata": {
    "collapsed": true
   },
   "outputs": [],
   "source": [
    "BA_Salary ={'Company':Companies,'Salary':Salaries}\n",
    "BA_Salary = pd.DataFrame.from_dict(BA_Salary)"
   ]
  },
  {
   "cell_type": "code",
   "execution_count": 18,
   "metadata": {
    "collapsed": true
   },
   "outputs": [],
   "source": [
    "#Extracting data in a .csv file\n",
    "BA_Salary.to_csv('Niche_BA_Salary.csv',index = False)"
   ]
  },
  {
   "cell_type": "markdown",
   "metadata": {},
   "source": [
    "\n"
   ]
  },
  {
   "cell_type": "markdown",
   "metadata": {},
   "source": [
    "# DataSet-3:\n",
    "Data source used: https://www.niche.com/colleges/santa-clara-university/majors/\n",
    "\n",
    "Extracting all the majors at Santa Clara University and the count of graduates in each."
   ]
  },
  {
   "cell_type": "code",
   "execution_count": 20,
   "metadata": {},
   "outputs": [
    {
     "name": "stdout",
     "output_type": "stream",
     "text": [
      "https://www.niche.com/colleges/santa-clara-university/majors/https://www.niche.com/colleges/santa-clara-university/majors/\n"
     ]
    }
   ],
   "source": [
    "url = input(\"https://www.niche.com/colleges/santa-clara-university/majors/\")\n",
    "r  = req.get(url)\n",
    "\n",
    "data = r.text\n",
    "soup = BS(data,\"html5lib\")"
   ]
  },
  {
   "cell_type": "code",
   "execution_count": 22,
   "metadata": {
    "collapsed": true
   },
   "outputs": [],
   "source": [
    "#Taking blank list to store information from the website and Iterating over the webpage, finding the tags and attributes.\n",
    "\n",
    "Majors = []\n",
    "GraduateCount = []\n",
    "for a in soup.find_all('div',{'class':['majors-list__list__item__major']}):\n",
    "    text = a.text\n",
    "    Majors.append(text)\n",
    "\n",
    "for b in soup.find_all('div',{'class':'majors-list__list__item__count'}):\n",
    "        text = b.text\n",
    "        GraduateCount.append(text)\n"
   ]
  },
  {
   "cell_type": "code",
   "execution_count": 23,
   "metadata": {
    "collapsed": true
   },
   "outputs": [],
   "source": [
    "SCUMajors={'majors-list__list__item__major':Majors}\n",
    "SCUMajors = pd.DataFrame.from_dict(SCUMajors)"
   ]
  },
  {
   "cell_type": "code",
   "execution_count": 24,
   "metadata": {
    "collapsed": true
   },
   "outputs": [],
   "source": [
    "SCUMajorCount ={'Majors':Majors,'Count':GraduateCount}\n",
    "SCUMajorCount = pd.DataFrame.from_dict(SCUMajorCount)"
   ]
  },
  {
   "cell_type": "code",
   "execution_count": 25,
   "metadata": {
    "collapsed": true
   },
   "outputs": [],
   "source": [
    "SCUMajorCount.to_csv('Niche_SCUMajorCount.csv',index = False)"
   ]
  },
  {
   "cell_type": "code",
   "execution_count": null,
   "metadata": {
    "collapsed": true
   },
   "outputs": [],
   "source": []
  },
  {
   "cell_type": "markdown",
   "metadata": {
    "collapsed": true
   },
   "source": [
    "# Tableau Publish links for the three data sets Visualization:\n",
    "\n"
   ]
  }
 ],
 "metadata": {
  "kernelspec": {
   "display_name": "Python 3",
   "language": "python",
   "name": "python3"
  },
  "language_info": {
   "codemirror_mode": {
    "name": "ipython",
    "version": 3
   },
   "file_extension": ".py",
   "mimetype": "text/x-python",
   "name": "python",
   "nbconvert_exporter": "python",
   "pygments_lexer": "ipython3",
   "version": "3.6.1"
  }
 },
 "nbformat": 4,
 "nbformat_minor": 2
}
